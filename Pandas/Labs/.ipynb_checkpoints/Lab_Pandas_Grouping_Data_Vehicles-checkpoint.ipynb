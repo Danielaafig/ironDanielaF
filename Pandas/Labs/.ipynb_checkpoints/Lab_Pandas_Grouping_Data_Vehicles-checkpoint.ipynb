{
 "cells": [
  {
   "cell_type": "markdown",
   "metadata": {
    "id": "N1YkD9XI6Fg3"
   },
   "source": [
    "# Pandas: grouping"
   ]
  },
  {
   "cell_type": "code",
   "execution_count": 123,
   "metadata": {
    "executionInfo": {
     "elapsed": 4,
     "status": "ok",
     "timestamp": 1623140082185,
     "user": {
      "displayName": "Ignacio Soteras",
      "photoUrl": "",
      "userId": "02050793736257155229"
     },
     "user_tz": -120
    },
    "id": "jL4kjGt66Fg5"
   },
   "outputs": [],
   "source": [
    "import pandas as pd\n",
    "import numpy as np"
   ]
  },
  {
   "cell_type": "code",
   "execution_count": 124,
   "metadata": {
    "executionInfo": {
     "elapsed": 1346,
     "status": "ok",
     "timestamp": 1623140174431,
     "user": {
      "displayName": "Ignacio Soteras",
      "photoUrl": "",
      "userId": "02050793736257155229"
     },
     "user_tz": -120
    },
    "id": "GVHPs2Qa6Fg5"
   },
   "outputs": [],
   "source": [
    "cars = pd.read_csv(\"data/vehicles.csv\")"
   ]
  },
  {
   "cell_type": "code",
   "execution_count": 125,
   "metadata": {
    "colab": {
     "base_uri": "https://localhost:8080/",
     "height": 477
    },
    "executionInfo": {
     "elapsed": 233,
     "status": "ok",
     "timestamp": 1623140176638,
     "user": {
      "displayName": "Ignacio Soteras",
      "photoUrl": "",
      "userId": "02050793736257155229"
     },
     "user_tz": -120
    },
    "id": "DseSH7qIPmxQ",
    "outputId": "9954b7e3-8541-4e16-cbce-b5828784b91e"
   },
   "outputs": [
    {
     "data": {
      "text/html": [
       "<div>\n",
       "<style scoped>\n",
       "    .dataframe tbody tr th:only-of-type {\n",
       "        vertical-align: middle;\n",
       "    }\n",
       "\n",
       "    .dataframe tbody tr th {\n",
       "        vertical-align: top;\n",
       "    }\n",
       "\n",
       "    .dataframe thead th {\n",
       "        text-align: right;\n",
       "    }\n",
       "</style>\n",
       "<table border=\"1\" class=\"dataframe\">\n",
       "  <thead>\n",
       "    <tr style=\"text-align: right;\">\n",
       "      <th></th>\n",
       "      <th>Make</th>\n",
       "      <th>Model</th>\n",
       "      <th>Year</th>\n",
       "      <th>Engine Displacement</th>\n",
       "      <th>Cylinders</th>\n",
       "      <th>Transmission</th>\n",
       "      <th>Drivetrain</th>\n",
       "      <th>Vehicle Class</th>\n",
       "      <th>Fuel Type</th>\n",
       "      <th>Fuel Barrels/Year</th>\n",
       "      <th>City MPG</th>\n",
       "      <th>Highway MPG</th>\n",
       "      <th>Combined MPG</th>\n",
       "      <th>CO2 Emission Grams/Mile</th>\n",
       "      <th>Fuel Cost/Year</th>\n",
       "    </tr>\n",
       "  </thead>\n",
       "  <tbody>\n",
       "    <tr>\n",
       "      <th>0</th>\n",
       "      <td>AM General</td>\n",
       "      <td>DJ Po Vehicle 2WD</td>\n",
       "      <td>1984</td>\n",
       "      <td>2.5</td>\n",
       "      <td>4.0</td>\n",
       "      <td>Automatic 3-spd</td>\n",
       "      <td>2-Wheel Drive</td>\n",
       "      <td>Special Purpose Vehicle 2WD</td>\n",
       "      <td>Regular</td>\n",
       "      <td>19.388824</td>\n",
       "      <td>18</td>\n",
       "      <td>17</td>\n",
       "      <td>17</td>\n",
       "      <td>522.764706</td>\n",
       "      <td>1950</td>\n",
       "    </tr>\n",
       "    <tr>\n",
       "      <th>1</th>\n",
       "      <td>AM General</td>\n",
       "      <td>FJ8c Post Office</td>\n",
       "      <td>1984</td>\n",
       "      <td>4.2</td>\n",
       "      <td>6.0</td>\n",
       "      <td>Automatic 3-spd</td>\n",
       "      <td>2-Wheel Drive</td>\n",
       "      <td>Special Purpose Vehicle 2WD</td>\n",
       "      <td>Regular</td>\n",
       "      <td>25.354615</td>\n",
       "      <td>13</td>\n",
       "      <td>13</td>\n",
       "      <td>13</td>\n",
       "      <td>683.615385</td>\n",
       "      <td>2550</td>\n",
       "    </tr>\n",
       "    <tr>\n",
       "      <th>2</th>\n",
       "      <td>AM General</td>\n",
       "      <td>Post Office DJ5 2WD</td>\n",
       "      <td>1985</td>\n",
       "      <td>2.5</td>\n",
       "      <td>4.0</td>\n",
       "      <td>Automatic 3-spd</td>\n",
       "      <td>Rear-Wheel Drive</td>\n",
       "      <td>Special Purpose Vehicle 2WD</td>\n",
       "      <td>Regular</td>\n",
       "      <td>20.600625</td>\n",
       "      <td>16</td>\n",
       "      <td>17</td>\n",
       "      <td>16</td>\n",
       "      <td>555.437500</td>\n",
       "      <td>2100</td>\n",
       "    </tr>\n",
       "    <tr>\n",
       "      <th>3</th>\n",
       "      <td>AM General</td>\n",
       "      <td>Post Office DJ8 2WD</td>\n",
       "      <td>1985</td>\n",
       "      <td>4.2</td>\n",
       "      <td>6.0</td>\n",
       "      <td>Automatic 3-spd</td>\n",
       "      <td>Rear-Wheel Drive</td>\n",
       "      <td>Special Purpose Vehicle 2WD</td>\n",
       "      <td>Regular</td>\n",
       "      <td>25.354615</td>\n",
       "      <td>13</td>\n",
       "      <td>13</td>\n",
       "      <td>13</td>\n",
       "      <td>683.615385</td>\n",
       "      <td>2550</td>\n",
       "    </tr>\n",
       "    <tr>\n",
       "      <th>4</th>\n",
       "      <td>ASC Incorporated</td>\n",
       "      <td>GNX</td>\n",
       "      <td>1987</td>\n",
       "      <td>3.8</td>\n",
       "      <td>6.0</td>\n",
       "      <td>Automatic 4-spd</td>\n",
       "      <td>Rear-Wheel Drive</td>\n",
       "      <td>Midsize Cars</td>\n",
       "      <td>Premium</td>\n",
       "      <td>20.600625</td>\n",
       "      <td>14</td>\n",
       "      <td>21</td>\n",
       "      <td>16</td>\n",
       "      <td>555.437500</td>\n",
       "      <td>2550</td>\n",
       "    </tr>\n",
       "  </tbody>\n",
       "</table>\n",
       "</div>"
      ],
      "text/plain": [
       "               Make                Model  Year  Engine Displacement  \\\n",
       "0        AM General    DJ Po Vehicle 2WD  1984                  2.5   \n",
       "1        AM General     FJ8c Post Office  1984                  4.2   \n",
       "2        AM General  Post Office DJ5 2WD  1985                  2.5   \n",
       "3        AM General  Post Office DJ8 2WD  1985                  4.2   \n",
       "4  ASC Incorporated                  GNX  1987                  3.8   \n",
       "\n",
       "   Cylinders     Transmission        Drivetrain                Vehicle Class  \\\n",
       "0        4.0  Automatic 3-spd     2-Wheel Drive  Special Purpose Vehicle 2WD   \n",
       "1        6.0  Automatic 3-spd     2-Wheel Drive  Special Purpose Vehicle 2WD   \n",
       "2        4.0  Automatic 3-spd  Rear-Wheel Drive  Special Purpose Vehicle 2WD   \n",
       "3        6.0  Automatic 3-spd  Rear-Wheel Drive  Special Purpose Vehicle 2WD   \n",
       "4        6.0  Automatic 4-spd  Rear-Wheel Drive                 Midsize Cars   \n",
       "\n",
       "  Fuel Type  Fuel Barrels/Year  City MPG  Highway MPG  Combined MPG  \\\n",
       "0   Regular          19.388824        18           17            17   \n",
       "1   Regular          25.354615        13           13            13   \n",
       "2   Regular          20.600625        16           17            16   \n",
       "3   Regular          25.354615        13           13            13   \n",
       "4   Premium          20.600625        14           21            16   \n",
       "\n",
       "   CO2 Emission Grams/Mile  Fuel Cost/Year  \n",
       "0               522.764706            1950  \n",
       "1               683.615385            2550  \n",
       "2               555.437500            2100  \n",
       "3               683.615385            2550  \n",
       "4               555.437500            2550  "
      ]
     },
     "execution_count": 125,
     "metadata": {},
     "output_type": "execute_result"
    }
   ],
   "source": [
    "cars.head()"
   ]
  },
  {
   "cell_type": "markdown",
   "metadata": {
    "id": "7sOaJJT_fSx2"
   },
   "source": [
    "How many Car models? "
   ]
  },
  {
   "cell_type": "code",
   "execution_count": 126,
   "metadata": {
    "colab": {
     "base_uri": "https://localhost:8080/"
    },
    "executionInfo": {
     "elapsed": 249,
     "status": "ok",
     "timestamp": 1623143296731,
     "user": {
      "displayName": "Ignacio Soteras",
      "photoUrl": "",
      "userId": "02050793736257155229"
     },
     "user_tz": -120
    },
    "id": "w_2EOD5efUOS",
    "outputId": "7b643b35-7639-4033-e882-69996dc301d8"
   },
   "outputs": [
    {
     "data": {
      "text/plain": [
       "F150 Pickup 2WD      197\n",
       "F150 Pickup 4WD      179\n",
       "Truck 2WD            173\n",
       "Mustang              170\n",
       "Jetta                169\n",
       "                    ... \n",
       "C300 Convertible       1\n",
       "C300 Coupe             1\n",
       "C300 FFV               1\n",
       "C320 4matic Sedan      1\n",
       "DJ Po Vehicle 2WD      1\n",
       "Name: Model, Length: 3608, dtype: int64"
      ]
     },
     "execution_count": 126,
     "metadata": {},
     "output_type": "execute_result"
    }
   ],
   "source": [
    "### your code is here\n",
    "models = cars['Model'].value_counts()\n",
    "models"
   ]
  },
  {
   "cell_type": "markdown",
   "metadata": {},
   "source": [
    "group by the data by the Make  using count function"
   ]
  },
  {
   "cell_type": "code",
   "execution_count": 127,
   "metadata": {},
   "outputs": [
    {
     "data": {
      "text/plain": [
       "Chevrolet                             3643\n",
       "Ford                                  2946\n",
       "Dodge                                 2360\n",
       "GMC                                   2347\n",
       "Toyota                                1836\n",
       "                                      ... \n",
       "Excalibur Autos                          1\n",
       "S and S Coach Company  E.p. Dutton       1\n",
       "Environmental Rsch and Devp Corp         1\n",
       "E. P. Dutton, Inc.                       1\n",
       "Lambda Control Systems                   1\n",
       "Name: Make, Length: 127, dtype: int64"
      ]
     },
     "execution_count": 127,
     "metadata": {},
     "output_type": "execute_result"
    }
   ],
   "source": [
    "make = cars['Make'].value_counts()\n",
    "make"
   ]
  },
  {
   "cell_type": "code",
   "execution_count": 128,
   "metadata": {
    "colab": {
     "base_uri": "https://localhost:8080/",
     "height": 544
    },
    "executionInfo": {
     "elapsed": 233,
     "status": "ok",
     "timestamp": 1623143566155,
     "user": {
      "displayName": "Ignacio Soteras",
      "photoUrl": "",
      "userId": "02050793736257155229"
     },
     "user_tz": -120
    },
    "id": "OTxZXCj_48hR",
    "outputId": "b1d1078e-ab91-475e-e94b-b28619722607"
   },
   "outputs": [
    {
     "data": {
      "text/html": [
       "<div>\n",
       "<style scoped>\n",
       "    .dataframe tbody tr th:only-of-type {\n",
       "        vertical-align: middle;\n",
       "    }\n",
       "\n",
       "    .dataframe tbody tr th {\n",
       "        vertical-align: top;\n",
       "    }\n",
       "\n",
       "    .dataframe thead th {\n",
       "        text-align: right;\n",
       "    }\n",
       "</style>\n",
       "<table border=\"1\" class=\"dataframe\">\n",
       "  <thead>\n",
       "    <tr style=\"text-align: right;\">\n",
       "      <th></th>\n",
       "      <th>Make</th>\n",
       "      <th>Model</th>\n",
       "    </tr>\n",
       "  </thead>\n",
       "  <tbody>\n",
       "    <tr>\n",
       "      <th>68</th>\n",
       "      <td>Mahindra</td>\n",
       "      <td>1</td>\n",
       "    </tr>\n",
       "    <tr>\n",
       "      <th>39</th>\n",
       "      <td>General Motors</td>\n",
       "      <td>1</td>\n",
       "    </tr>\n",
       "    <tr>\n",
       "      <th>94</th>\n",
       "      <td>Qvale</td>\n",
       "      <td>1</td>\n",
       "    </tr>\n",
       "    <tr>\n",
       "      <th>36</th>\n",
       "      <td>Fisker</td>\n",
       "      <td>1</td>\n",
       "    </tr>\n",
       "    <tr>\n",
       "      <th>101</th>\n",
       "      <td>S and S Coach Company  E.p. Dutton</td>\n",
       "      <td>1</td>\n",
       "    </tr>\n",
       "    <tr>\n",
       "      <th>...</th>\n",
       "      <td>...</td>\n",
       "      <td>...</td>\n",
       "    </tr>\n",
       "    <tr>\n",
       "      <th>117</th>\n",
       "      <td>Toyota</td>\n",
       "      <td>1836</td>\n",
       "    </tr>\n",
       "    <tr>\n",
       "      <th>38</th>\n",
       "      <td>GMC</td>\n",
       "      <td>2347</td>\n",
       "    </tr>\n",
       "    <tr>\n",
       "      <th>27</th>\n",
       "      <td>Dodge</td>\n",
       "      <td>2360</td>\n",
       "    </tr>\n",
       "    <tr>\n",
       "      <th>37</th>\n",
       "      <td>Ford</td>\n",
       "      <td>2946</td>\n",
       "    </tr>\n",
       "    <tr>\n",
       "      <th>20</th>\n",
       "      <td>Chevrolet</td>\n",
       "      <td>3643</td>\n",
       "    </tr>\n",
       "  </tbody>\n",
       "</table>\n",
       "<p>127 rows × 2 columns</p>\n",
       "</div>"
      ],
      "text/plain": [
       "                                   Make  Model\n",
       "68                             Mahindra      1\n",
       "39                       General Motors      1\n",
       "94                                Qvale      1\n",
       "36                               Fisker      1\n",
       "101  S and S Coach Company  E.p. Dutton      1\n",
       "..                                  ...    ...\n",
       "117                              Toyota   1836\n",
       "38                                  GMC   2347\n",
       "27                                Dodge   2360\n",
       "37                                 Ford   2946\n",
       "20                            Chevrolet   3643\n",
       "\n",
       "[127 rows x 2 columns]"
      ]
     },
     "execution_count": 128,
     "metadata": {},
     "output_type": "execute_result"
    }
   ],
   "source": [
    "### your code us here\n",
    "make_group=cars.groupby([\"Make\"])[\"Model\"].count().reset_index()\n",
    "make_group\n",
    "\n",
    "make_group.sort_values(by=[\"Model\"])"
   ]
  },
  {
   "cell_type": "markdown",
   "metadata": {},
   "source": [
    "Converting Grams/Mile to Grams/Km\n",
    "\n",
    "1 Mile = 1.60934 Km\n",
    "\n",
    "Converting Gallons to Liters\n",
    "\n",
    "1 Gallon = 3.78541 Liters"
   ]
  },
  {
   "cell_type": "markdown",
   "metadata": {
    "id": "lJMDlBOM6Fg7"
   },
   "source": [
    "What brand has the most cars?"
   ]
  },
  {
   "cell_type": "code",
   "execution_count": 129,
   "metadata": {
    "id": "cbk5R7HL6Fg8",
    "scrolled": true
   },
   "outputs": [
    {
     "data": {
      "text/html": [
       "<div>\n",
       "<style scoped>\n",
       "    .dataframe tbody tr th:only-of-type {\n",
       "        vertical-align: middle;\n",
       "    }\n",
       "\n",
       "    .dataframe tbody tr th {\n",
       "        vertical-align: top;\n",
       "    }\n",
       "\n",
       "    .dataframe thead th {\n",
       "        text-align: right;\n",
       "    }\n",
       "</style>\n",
       "<table border=\"1\" class=\"dataframe\">\n",
       "  <thead>\n",
       "    <tr style=\"text-align: right;\">\n",
       "      <th></th>\n",
       "      <th>Make</th>\n",
       "      <th>Model</th>\n",
       "      <th>Year</th>\n",
       "      <th>Engine Displacement</th>\n",
       "      <th>Cylinders</th>\n",
       "      <th>Transmission</th>\n",
       "      <th>Drivetrain</th>\n",
       "      <th>Vehicle Class</th>\n",
       "      <th>Fuel Type</th>\n",
       "      <th>Fuel Barrels/Year</th>\n",
       "      <th>City MPG</th>\n",
       "      <th>Highway MPG</th>\n",
       "      <th>Combined MPG</th>\n",
       "      <th>CO2 Emission Grams/Mile</th>\n",
       "      <th>Fuel Cost/Year</th>\n",
       "    </tr>\n",
       "    <tr>\n",
       "      <th>Make</th>\n",
       "      <th></th>\n",
       "      <th></th>\n",
       "      <th></th>\n",
       "      <th></th>\n",
       "      <th></th>\n",
       "      <th></th>\n",
       "      <th></th>\n",
       "      <th></th>\n",
       "      <th></th>\n",
       "      <th></th>\n",
       "      <th></th>\n",
       "      <th></th>\n",
       "      <th></th>\n",
       "      <th></th>\n",
       "      <th></th>\n",
       "    </tr>\n",
       "  </thead>\n",
       "  <tbody>\n",
       "    <tr>\n",
       "      <th>AM General</th>\n",
       "      <td>AM General</td>\n",
       "      <td>Post Office DJ8 2WD</td>\n",
       "      <td>1985</td>\n",
       "      <td>4.2</td>\n",
       "      <td>6.0</td>\n",
       "      <td>Automatic 3-spd</td>\n",
       "      <td>Rear-Wheel Drive</td>\n",
       "      <td>Special Purpose Vehicle 2WD</td>\n",
       "      <td>Regular</td>\n",
       "      <td>25.354615</td>\n",
       "      <td>18</td>\n",
       "      <td>17</td>\n",
       "      <td>17</td>\n",
       "      <td>683.615385</td>\n",
       "      <td>2550</td>\n",
       "    </tr>\n",
       "    <tr>\n",
       "      <th>ASC Incorporated</th>\n",
       "      <td>ASC Incorporated</td>\n",
       "      <td>GNX</td>\n",
       "      <td>1987</td>\n",
       "      <td>3.8</td>\n",
       "      <td>6.0</td>\n",
       "      <td>Automatic 4-spd</td>\n",
       "      <td>Rear-Wheel Drive</td>\n",
       "      <td>Midsize Cars</td>\n",
       "      <td>Premium</td>\n",
       "      <td>20.600625</td>\n",
       "      <td>14</td>\n",
       "      <td>21</td>\n",
       "      <td>16</td>\n",
       "      <td>555.437500</td>\n",
       "      <td>2550</td>\n",
       "    </tr>\n",
       "    <tr>\n",
       "      <th>Acura</th>\n",
       "      <td>Acura</td>\n",
       "      <td>ZDX 4WD</td>\n",
       "      <td>2017</td>\n",
       "      <td>3.7</td>\n",
       "      <td>6.0</td>\n",
       "      <td>Manual 6-spd</td>\n",
       "      <td>Rear-Wheel Drive</td>\n",
       "      <td>Two Seaters</td>\n",
       "      <td>Regular</td>\n",
       "      <td>23.543571</td>\n",
       "      <td>39</td>\n",
       "      <td>38</td>\n",
       "      <td>38</td>\n",
       "      <td>634.785714</td>\n",
       "      <td>2400</td>\n",
       "    </tr>\n",
       "    <tr>\n",
       "      <th>Alfa Romeo</th>\n",
       "      <td>Alfa Romeo</td>\n",
       "      <td>Spider Veloce 2000</td>\n",
       "      <td>2016</td>\n",
       "      <td>4.7</td>\n",
       "      <td>8.0</td>\n",
       "      <td>Manual 5-spd</td>\n",
       "      <td>Rear-Wheel Drive</td>\n",
       "      <td>Two Seaters</td>\n",
       "      <td>Regular</td>\n",
       "      <td>25.354615</td>\n",
       "      <td>24</td>\n",
       "      <td>34</td>\n",
       "      <td>28</td>\n",
       "      <td>683.615385</td>\n",
       "      <td>3100</td>\n",
       "    </tr>\n",
       "    <tr>\n",
       "      <th>American Motors Corporation</th>\n",
       "      <td>American Motors Corporation</td>\n",
       "      <td>Eagle SX/4 4WD</td>\n",
       "      <td>1987</td>\n",
       "      <td>4.2</td>\n",
       "      <td>6.0</td>\n",
       "      <td>Manual 5-spd</td>\n",
       "      <td>4-Wheel or All-Wheel Drive</td>\n",
       "      <td>Special Purpose Vehicles</td>\n",
       "      <td>Regular</td>\n",
       "      <td>20.600625</td>\n",
       "      <td>19</td>\n",
       "      <td>23</td>\n",
       "      <td>21</td>\n",
       "      <td>555.437500</td>\n",
       "      <td>2100</td>\n",
       "    </tr>\n",
       "    <tr>\n",
       "      <th>...</th>\n",
       "      <td>...</td>\n",
       "      <td>...</td>\n",
       "      <td>...</td>\n",
       "      <td>...</td>\n",
       "      <td>...</td>\n",
       "      <td>...</td>\n",
       "      <td>...</td>\n",
       "      <td>...</td>\n",
       "      <td>...</td>\n",
       "      <td>...</td>\n",
       "      <td>...</td>\n",
       "      <td>...</td>\n",
       "      <td>...</td>\n",
       "      <td>...</td>\n",
       "      <td>...</td>\n",
       "    </tr>\n",
       "    <tr>\n",
       "      <th>Volkswagen</th>\n",
       "      <td>Volkswagen</td>\n",
       "      <td>Vanagon/Camper 2WD</td>\n",
       "      <td>2017</td>\n",
       "      <td>6.0</td>\n",
       "      <td>12.0</td>\n",
       "      <td>Manual 6-spd</td>\n",
       "      <td>Rear-Wheel Drive</td>\n",
       "      <td>Vans, Passenger Type</td>\n",
       "      <td>Regular</td>\n",
       "      <td>25.354615</td>\n",
       "      <td>42</td>\n",
       "      <td>48</td>\n",
       "      <td>45</td>\n",
       "      <td>683.615385</td>\n",
       "      <td>3100</td>\n",
       "    </tr>\n",
       "    <tr>\n",
       "      <th>Volvo</th>\n",
       "      <td>Volvo</td>\n",
       "      <td>XC90 FWD</td>\n",
       "      <td>2017</td>\n",
       "      <td>4.4</td>\n",
       "      <td>8.0</td>\n",
       "      <td>Manual 6-spd</td>\n",
       "      <td>Rear-Wheel Drive</td>\n",
       "      <td>Subcompact Cars</td>\n",
       "      <td>Regular</td>\n",
       "      <td>21.974000</td>\n",
       "      <td>26</td>\n",
       "      <td>38</td>\n",
       "      <td>30</td>\n",
       "      <td>592.466667</td>\n",
       "      <td>2700</td>\n",
       "    </tr>\n",
       "    <tr>\n",
       "      <th>Wallace Environmental</th>\n",
       "      <td>Wallace Environmental</td>\n",
       "      <td>Wetl Testarossa</td>\n",
       "      <td>1992</td>\n",
       "      <td>6.0</td>\n",
       "      <td>12.0</td>\n",
       "      <td>Manual 6-spd</td>\n",
       "      <td>Rear-Wheel Drive</td>\n",
       "      <td>Two Seaters</td>\n",
       "      <td>Premium</td>\n",
       "      <td>32.961000</td>\n",
       "      <td>17</td>\n",
       "      <td>22</td>\n",
       "      <td>19</td>\n",
       "      <td>888.700000</td>\n",
       "      <td>4050</td>\n",
       "    </tr>\n",
       "    <tr>\n",
       "      <th>Yugo</th>\n",
       "      <td>Yugo</td>\n",
       "      <td>Gy/yugo GVX</td>\n",
       "      <td>1990</td>\n",
       "      <td>1.3</td>\n",
       "      <td>4.0</td>\n",
       "      <td>Manual 5-spd</td>\n",
       "      <td>Front-Wheel Drive</td>\n",
       "      <td>Subcompact Cars</td>\n",
       "      <td>Regular</td>\n",
       "      <td>14.330870</td>\n",
       "      <td>24</td>\n",
       "      <td>29</td>\n",
       "      <td>26</td>\n",
       "      <td>386.391304</td>\n",
       "      <td>1450</td>\n",
       "    </tr>\n",
       "    <tr>\n",
       "      <th>smart</th>\n",
       "      <td>smart</td>\n",
       "      <td>fortwo coupe</td>\n",
       "      <td>2017</td>\n",
       "      <td>1.0</td>\n",
       "      <td>3.0</td>\n",
       "      <td>Manual 5-spd</td>\n",
       "      <td>Rear-Wheel Drive</td>\n",
       "      <td>Two Seaters</td>\n",
       "      <td>Premium</td>\n",
       "      <td>9.694412</td>\n",
       "      <td>34</td>\n",
       "      <td>41</td>\n",
       "      <td>36</td>\n",
       "      <td>258.000000</td>\n",
       "      <td>1200</td>\n",
       "    </tr>\n",
       "  </tbody>\n",
       "</table>\n",
       "<p>127 rows × 15 columns</p>\n",
       "</div>"
      ],
      "text/plain": [
       "                                                    Make                Model  \\\n",
       "Make                                                                            \n",
       "AM General                                    AM General  Post Office DJ8 2WD   \n",
       "ASC Incorporated                        ASC Incorporated                  GNX   \n",
       "Acura                                              Acura              ZDX 4WD   \n",
       "Alfa Romeo                                    Alfa Romeo   Spider Veloce 2000   \n",
       "American Motors Corporation  American Motors Corporation       Eagle SX/4 4WD   \n",
       "...                                                  ...                  ...   \n",
       "Volkswagen                                    Volkswagen   Vanagon/Camper 2WD   \n",
       "Volvo                                              Volvo             XC90 FWD   \n",
       "Wallace Environmental              Wallace Environmental      Wetl Testarossa   \n",
       "Yugo                                                Yugo          Gy/yugo GVX   \n",
       "smart                                              smart         fortwo coupe   \n",
       "\n",
       "                             Year  Engine Displacement  Cylinders  \\\n",
       "Make                                                                \n",
       "AM General                   1985                  4.2        6.0   \n",
       "ASC Incorporated             1987                  3.8        6.0   \n",
       "Acura                        2017                  3.7        6.0   \n",
       "Alfa Romeo                   2016                  4.7        8.0   \n",
       "American Motors Corporation  1987                  4.2        6.0   \n",
       "...                           ...                  ...        ...   \n",
       "Volkswagen                   2017                  6.0       12.0   \n",
       "Volvo                        2017                  4.4        8.0   \n",
       "Wallace Environmental        1992                  6.0       12.0   \n",
       "Yugo                         1990                  1.3        4.0   \n",
       "smart                        2017                  1.0        3.0   \n",
       "\n",
       "                                Transmission                  Drivetrain  \\\n",
       "Make                                                                       \n",
       "AM General                   Automatic 3-spd            Rear-Wheel Drive   \n",
       "ASC Incorporated             Automatic 4-spd            Rear-Wheel Drive   \n",
       "Acura                           Manual 6-spd            Rear-Wheel Drive   \n",
       "Alfa Romeo                      Manual 5-spd            Rear-Wheel Drive   \n",
       "American Motors Corporation     Manual 5-spd  4-Wheel or All-Wheel Drive   \n",
       "...                                      ...                         ...   \n",
       "Volkswagen                      Manual 6-spd            Rear-Wheel Drive   \n",
       "Volvo                           Manual 6-spd            Rear-Wheel Drive   \n",
       "Wallace Environmental           Manual 6-spd            Rear-Wheel Drive   \n",
       "Yugo                            Manual 5-spd           Front-Wheel Drive   \n",
       "smart                           Manual 5-spd            Rear-Wheel Drive   \n",
       "\n",
       "                                           Vehicle Class Fuel Type  \\\n",
       "Make                                                                 \n",
       "AM General                   Special Purpose Vehicle 2WD   Regular   \n",
       "ASC Incorporated                            Midsize Cars   Premium   \n",
       "Acura                                        Two Seaters   Regular   \n",
       "Alfa Romeo                                   Two Seaters   Regular   \n",
       "American Motors Corporation     Special Purpose Vehicles   Regular   \n",
       "...                                                  ...       ...   \n",
       "Volkswagen                          Vans, Passenger Type   Regular   \n",
       "Volvo                                    Subcompact Cars   Regular   \n",
       "Wallace Environmental                        Two Seaters   Premium   \n",
       "Yugo                                     Subcompact Cars   Regular   \n",
       "smart                                        Two Seaters   Premium   \n",
       "\n",
       "                             Fuel Barrels/Year  City MPG  Highway MPG  \\\n",
       "Make                                                                    \n",
       "AM General                           25.354615        18           17   \n",
       "ASC Incorporated                     20.600625        14           21   \n",
       "Acura                                23.543571        39           38   \n",
       "Alfa Romeo                           25.354615        24           34   \n",
       "American Motors Corporation          20.600625        19           23   \n",
       "...                                        ...       ...          ...   \n",
       "Volkswagen                           25.354615        42           48   \n",
       "Volvo                                21.974000        26           38   \n",
       "Wallace Environmental                32.961000        17           22   \n",
       "Yugo                                 14.330870        24           29   \n",
       "smart                                 9.694412        34           41   \n",
       "\n",
       "                             Combined MPG  CO2 Emission Grams/Mile  \\\n",
       "Make                                                                 \n",
       "AM General                             17               683.615385   \n",
       "ASC Incorporated                       16               555.437500   \n",
       "Acura                                  38               634.785714   \n",
       "Alfa Romeo                             28               683.615385   \n",
       "American Motors Corporation            21               555.437500   \n",
       "...                                   ...                      ...   \n",
       "Volkswagen                             45               683.615385   \n",
       "Volvo                                  30               592.466667   \n",
       "Wallace Environmental                  19               888.700000   \n",
       "Yugo                                   26               386.391304   \n",
       "smart                                  36               258.000000   \n",
       "\n",
       "                             Fuel Cost/Year  \n",
       "Make                                         \n",
       "AM General                             2550  \n",
       "ASC Incorporated                       2550  \n",
       "Acura                                  2400  \n",
       "Alfa Romeo                             3100  \n",
       "American Motors Corporation            2100  \n",
       "...                                     ...  \n",
       "Volkswagen                             3100  \n",
       "Volvo                                  2700  \n",
       "Wallace Environmental                  4050  \n",
       "Yugo                                   1450  \n",
       "smart                                  1200  \n",
       "\n",
       "[127 rows x 15 columns]"
      ]
     },
     "execution_count": 129,
     "metadata": {},
     "output_type": "execute_result"
    }
   ],
   "source": [
    "### your code us here\n",
    "cars.groupby(\"Make\").apply(lambda gp:gp.max() )"
   ]
  },
  {
   "cell_type": "code",
   "execution_count": 130,
   "metadata": {},
   "outputs": [
    {
     "name": "stdout",
     "output_type": "stream",
     "text": [
      "Chevrolet\n"
     ]
    }
   ],
   "source": [
    "Car_producers=cars['Make'].value_counts()\n",
    "g=Car_producers.idxmax(axis=0)\n",
    "print(g)"
   ]
  },
  {
   "cell_type": "markdown",
   "metadata": {},
   "source": [
    "<b>show the average CO2_Emission_Grams/Km  by Brand"
   ]
  },
  {
   "cell_type": "code",
   "execution_count": 131,
   "metadata": {},
   "outputs": [
    {
     "data": {
      "text/html": [
       "<div>\n",
       "<style scoped>\n",
       "    .dataframe tbody tr th:only-of-type {\n",
       "        vertical-align: middle;\n",
       "    }\n",
       "\n",
       "    .dataframe tbody tr th {\n",
       "        vertical-align: top;\n",
       "    }\n",
       "\n",
       "    .dataframe thead th {\n",
       "        text-align: right;\n",
       "    }\n",
       "</style>\n",
       "<table border=\"1\" class=\"dataframe\">\n",
       "  <thead>\n",
       "    <tr style=\"text-align: right;\">\n",
       "      <th></th>\n",
       "      <th>Make</th>\n",
       "      <th>Model</th>\n",
       "      <th>Year</th>\n",
       "      <th>Engine Displacement</th>\n",
       "      <th>Cylinders</th>\n",
       "      <th>Transmission</th>\n",
       "      <th>Drivetrain</th>\n",
       "      <th>Vehicle Class</th>\n",
       "      <th>Fuel Type</th>\n",
       "      <th>Fuel Barrels/Year</th>\n",
       "      <th>City MPG</th>\n",
       "      <th>Highway MPG</th>\n",
       "      <th>Combined MPG</th>\n",
       "      <th>CO2 Emission Grams/Km</th>\n",
       "      <th>Fuel Cost/Year</th>\n",
       "    </tr>\n",
       "  </thead>\n",
       "  <tbody>\n",
       "    <tr>\n",
       "      <th>0</th>\n",
       "      <td>AM General</td>\n",
       "      <td>DJ Po Vehicle 2WD</td>\n",
       "      <td>1984</td>\n",
       "      <td>2.5</td>\n",
       "      <td>4.0</td>\n",
       "      <td>Automatic 3-spd</td>\n",
       "      <td>2-Wheel Drive</td>\n",
       "      <td>Special Purpose Vehicle 2WD</td>\n",
       "      <td>Regular</td>\n",
       "      <td>19.388824</td>\n",
       "      <td>18</td>\n",
       "      <td>17</td>\n",
       "      <td>17</td>\n",
       "      <td>324.831736</td>\n",
       "      <td>1950</td>\n",
       "    </tr>\n",
       "    <tr>\n",
       "      <th>1</th>\n",
       "      <td>AM General</td>\n",
       "      <td>FJ8c Post Office</td>\n",
       "      <td>1984</td>\n",
       "      <td>4.2</td>\n",
       "      <td>6.0</td>\n",
       "      <td>Automatic 3-spd</td>\n",
       "      <td>2-Wheel Drive</td>\n",
       "      <td>Special Purpose Vehicle 2WD</td>\n",
       "      <td>Regular</td>\n",
       "      <td>25.354615</td>\n",
       "      <td>13</td>\n",
       "      <td>13</td>\n",
       "      <td>13</td>\n",
       "      <td>424.779962</td>\n",
       "      <td>2550</td>\n",
       "    </tr>\n",
       "    <tr>\n",
       "      <th>2</th>\n",
       "      <td>AM General</td>\n",
       "      <td>Post Office DJ5 2WD</td>\n",
       "      <td>1985</td>\n",
       "      <td>2.5</td>\n",
       "      <td>4.0</td>\n",
       "      <td>Automatic 3-spd</td>\n",
       "      <td>Rear-Wheel Drive</td>\n",
       "      <td>Special Purpose Vehicle 2WD</td>\n",
       "      <td>Regular</td>\n",
       "      <td>20.600625</td>\n",
       "      <td>16</td>\n",
       "      <td>17</td>\n",
       "      <td>16</td>\n",
       "      <td>345.133719</td>\n",
       "      <td>2100</td>\n",
       "    </tr>\n",
       "    <tr>\n",
       "      <th>3</th>\n",
       "      <td>AM General</td>\n",
       "      <td>Post Office DJ8 2WD</td>\n",
       "      <td>1985</td>\n",
       "      <td>4.2</td>\n",
       "      <td>6.0</td>\n",
       "      <td>Automatic 3-spd</td>\n",
       "      <td>Rear-Wheel Drive</td>\n",
       "      <td>Special Purpose Vehicle 2WD</td>\n",
       "      <td>Regular</td>\n",
       "      <td>25.354615</td>\n",
       "      <td>13</td>\n",
       "      <td>13</td>\n",
       "      <td>13</td>\n",
       "      <td>424.779962</td>\n",
       "      <td>2550</td>\n",
       "    </tr>\n",
       "    <tr>\n",
       "      <th>4</th>\n",
       "      <td>ASC Incorporated</td>\n",
       "      <td>GNX</td>\n",
       "      <td>1987</td>\n",
       "      <td>3.8</td>\n",
       "      <td>6.0</td>\n",
       "      <td>Automatic 4-spd</td>\n",
       "      <td>Rear-Wheel Drive</td>\n",
       "      <td>Midsize Cars</td>\n",
       "      <td>Premium</td>\n",
       "      <td>20.600625</td>\n",
       "      <td>14</td>\n",
       "      <td>21</td>\n",
       "      <td>16</td>\n",
       "      <td>345.133719</td>\n",
       "      <td>2550</td>\n",
       "    </tr>\n",
       "    <tr>\n",
       "      <th>...</th>\n",
       "      <td>...</td>\n",
       "      <td>...</td>\n",
       "      <td>...</td>\n",
       "      <td>...</td>\n",
       "      <td>...</td>\n",
       "      <td>...</td>\n",
       "      <td>...</td>\n",
       "      <td>...</td>\n",
       "      <td>...</td>\n",
       "      <td>...</td>\n",
       "      <td>...</td>\n",
       "      <td>...</td>\n",
       "      <td>...</td>\n",
       "      <td>...</td>\n",
       "      <td>...</td>\n",
       "    </tr>\n",
       "    <tr>\n",
       "      <th>35947</th>\n",
       "      <td>smart</td>\n",
       "      <td>fortwo coupe</td>\n",
       "      <td>2013</td>\n",
       "      <td>1.0</td>\n",
       "      <td>3.0</td>\n",
       "      <td>Auto(AM5)</td>\n",
       "      <td>Rear-Wheel Drive</td>\n",
       "      <td>Two Seaters</td>\n",
       "      <td>Premium</td>\n",
       "      <td>9.155833</td>\n",
       "      <td>34</td>\n",
       "      <td>38</td>\n",
       "      <td>36</td>\n",
       "      <td>151.614948</td>\n",
       "      <td>1100</td>\n",
       "    </tr>\n",
       "    <tr>\n",
       "      <th>35948</th>\n",
       "      <td>smart</td>\n",
       "      <td>fortwo coupe</td>\n",
       "      <td>2014</td>\n",
       "      <td>1.0</td>\n",
       "      <td>3.0</td>\n",
       "      <td>Auto(AM5)</td>\n",
       "      <td>Rear-Wheel Drive</td>\n",
       "      <td>Two Seaters</td>\n",
       "      <td>Premium</td>\n",
       "      <td>9.155833</td>\n",
       "      <td>34</td>\n",
       "      <td>38</td>\n",
       "      <td>36</td>\n",
       "      <td>150.993575</td>\n",
       "      <td>1100</td>\n",
       "    </tr>\n",
       "    <tr>\n",
       "      <th>35949</th>\n",
       "      <td>smart</td>\n",
       "      <td>fortwo coupe</td>\n",
       "      <td>2015</td>\n",
       "      <td>1.0</td>\n",
       "      <td>3.0</td>\n",
       "      <td>Auto(AM5)</td>\n",
       "      <td>Rear-Wheel Drive</td>\n",
       "      <td>Two Seaters</td>\n",
       "      <td>Premium</td>\n",
       "      <td>9.155833</td>\n",
       "      <td>34</td>\n",
       "      <td>38</td>\n",
       "      <td>36</td>\n",
       "      <td>151.614948</td>\n",
       "      <td>1100</td>\n",
       "    </tr>\n",
       "    <tr>\n",
       "      <th>35950</th>\n",
       "      <td>smart</td>\n",
       "      <td>fortwo coupe</td>\n",
       "      <td>2016</td>\n",
       "      <td>0.9</td>\n",
       "      <td>3.0</td>\n",
       "      <td>Auto(AM6)</td>\n",
       "      <td>Rear-Wheel Drive</td>\n",
       "      <td>Two Seaters</td>\n",
       "      <td>Premium</td>\n",
       "      <td>9.155833</td>\n",
       "      <td>34</td>\n",
       "      <td>39</td>\n",
       "      <td>36</td>\n",
       "      <td>152.857693</td>\n",
       "      <td>1100</td>\n",
       "    </tr>\n",
       "    <tr>\n",
       "      <th>35951</th>\n",
       "      <td>smart</td>\n",
       "      <td>fortwo coupe</td>\n",
       "      <td>2016</td>\n",
       "      <td>0.9</td>\n",
       "      <td>3.0</td>\n",
       "      <td>Manual 5-spd</td>\n",
       "      <td>Rear-Wheel Drive</td>\n",
       "      <td>Two Seaters</td>\n",
       "      <td>Premium</td>\n",
       "      <td>9.417429</td>\n",
       "      <td>32</td>\n",
       "      <td>39</td>\n",
       "      <td>35</td>\n",
       "      <td>158.450048</td>\n",
       "      <td>1150</td>\n",
       "    </tr>\n",
       "  </tbody>\n",
       "</table>\n",
       "<p>35952 rows × 15 columns</p>\n",
       "</div>"
      ],
      "text/plain": [
       "                   Make                Model  Year  Engine Displacement  \\\n",
       "0            AM General    DJ Po Vehicle 2WD  1984                  2.5   \n",
       "1            AM General     FJ8c Post Office  1984                  4.2   \n",
       "2            AM General  Post Office DJ5 2WD  1985                  2.5   \n",
       "3            AM General  Post Office DJ8 2WD  1985                  4.2   \n",
       "4      ASC Incorporated                  GNX  1987                  3.8   \n",
       "...                 ...                  ...   ...                  ...   \n",
       "35947             smart         fortwo coupe  2013                  1.0   \n",
       "35948             smart         fortwo coupe  2014                  1.0   \n",
       "35949             smart         fortwo coupe  2015                  1.0   \n",
       "35950             smart         fortwo coupe  2016                  0.9   \n",
       "35951             smart         fortwo coupe  2016                  0.9   \n",
       "\n",
       "       Cylinders     Transmission        Drivetrain  \\\n",
       "0            4.0  Automatic 3-spd     2-Wheel Drive   \n",
       "1            6.0  Automatic 3-spd     2-Wheel Drive   \n",
       "2            4.0  Automatic 3-spd  Rear-Wheel Drive   \n",
       "3            6.0  Automatic 3-spd  Rear-Wheel Drive   \n",
       "4            6.0  Automatic 4-spd  Rear-Wheel Drive   \n",
       "...          ...              ...               ...   \n",
       "35947        3.0        Auto(AM5)  Rear-Wheel Drive   \n",
       "35948        3.0        Auto(AM5)  Rear-Wheel Drive   \n",
       "35949        3.0        Auto(AM5)  Rear-Wheel Drive   \n",
       "35950        3.0        Auto(AM6)  Rear-Wheel Drive   \n",
       "35951        3.0     Manual 5-spd  Rear-Wheel Drive   \n",
       "\n",
       "                     Vehicle Class Fuel Type  Fuel Barrels/Year  City MPG  \\\n",
       "0      Special Purpose Vehicle 2WD   Regular          19.388824        18   \n",
       "1      Special Purpose Vehicle 2WD   Regular          25.354615        13   \n",
       "2      Special Purpose Vehicle 2WD   Regular          20.600625        16   \n",
       "3      Special Purpose Vehicle 2WD   Regular          25.354615        13   \n",
       "4                     Midsize Cars   Premium          20.600625        14   \n",
       "...                            ...       ...                ...       ...   \n",
       "35947                  Two Seaters   Premium           9.155833        34   \n",
       "35948                  Two Seaters   Premium           9.155833        34   \n",
       "35949                  Two Seaters   Premium           9.155833        34   \n",
       "35950                  Two Seaters   Premium           9.155833        34   \n",
       "35951                  Two Seaters   Premium           9.417429        32   \n",
       "\n",
       "       Highway MPG  Combined MPG  CO2 Emission Grams/Km  Fuel Cost/Year  \n",
       "0               17            17             324.831736            1950  \n",
       "1               13            13             424.779962            2550  \n",
       "2               17            16             345.133719            2100  \n",
       "3               13            13             424.779962            2550  \n",
       "4               21            16             345.133719            2550  \n",
       "...            ...           ...                    ...             ...  \n",
       "35947           38            36             151.614948            1100  \n",
       "35948           38            36             150.993575            1100  \n",
       "35949           38            36             151.614948            1100  \n",
       "35950           39            36             152.857693            1100  \n",
       "35951           39            35             158.450048            1150  \n",
       "\n",
       "[35952 rows x 15 columns]"
      ]
     },
     "execution_count": 131,
     "metadata": {},
     "output_type": "execute_result"
    }
   ],
   "source": [
    "cars['CO2 Emission Grams/Mile'] = cars['CO2 Emission Grams/Mile'] / 1.60934 \n",
    "cars.rename(columns={\"CO2 Emission Grams/Mile\" : \"CO2 Emission Grams/Km\"}, inplace=True)\n",
    "cars"
   ]
  },
  {
   "cell_type": "markdown",
   "metadata": {},
   "source": [
    "<b>show the average CO2_Emission_Grams/Km  by Brand ... sorted"
   ]
  },
  {
   "cell_type": "code",
   "execution_count": 132,
   "metadata": {
    "colab": {
     "base_uri": "https://localhost:8080/",
     "height": 437
    },
    "executionInfo": {
     "elapsed": 271,
     "status": "ok",
     "timestamp": 1623145508527,
     "user": {
      "displayName": "Ignacio Soteras",
      "photoUrl": "",
      "userId": "02050793736257155229"
     },
     "user_tz": -120
    },
    "id": "HmkHNbaIAlxR",
    "outputId": "90c966a3-f1cb-4cea-94da-7e3c4654d996"
   },
   "outputs": [
    {
     "data": {
      "text/html": [
       "<div>\n",
       "<style scoped>\n",
       "    .dataframe tbody tr th:only-of-type {\n",
       "        vertical-align: middle;\n",
       "    }\n",
       "\n",
       "    .dataframe tbody tr th {\n",
       "        vertical-align: top;\n",
       "    }\n",
       "\n",
       "    .dataframe thead th {\n",
       "        text-align: right;\n",
       "    }\n",
       "</style>\n",
       "<table border=\"1\" class=\"dataframe\">\n",
       "  <thead>\n",
       "    <tr style=\"text-align: right;\">\n",
       "      <th></th>\n",
       "      <th>CO2 Emission Grams/Km</th>\n",
       "    </tr>\n",
       "    <tr>\n",
       "      <th>Make</th>\n",
       "      <th></th>\n",
       "    </tr>\n",
       "  </thead>\n",
       "  <tbody>\n",
       "    <tr>\n",
       "      <th>AM General</th>\n",
       "      <td>379.881345</td>\n",
       "    </tr>\n",
       "    <tr>\n",
       "      <th>ASC Incorporated</th>\n",
       "      <td>345.133719</td>\n",
       "    </tr>\n",
       "    <tr>\n",
       "      <th>Acura</th>\n",
       "      <td>262.583000</td>\n",
       "    </tr>\n",
       "    <tr>\n",
       "      <th>Alfa Romeo</th>\n",
       "      <td>288.287195</td>\n",
       "    </tr>\n",
       "    <tr>\n",
       "      <th>American Motors Corporation</th>\n",
       "      <td>314.264744</td>\n",
       "    </tr>\n",
       "    <tr>\n",
       "      <th>...</th>\n",
       "      <td>...</td>\n",
       "    </tr>\n",
       "    <tr>\n",
       "      <th>Volkswagen</th>\n",
       "      <td>244.038998</td>\n",
       "    </tr>\n",
       "    <tr>\n",
       "      <th>Volvo</th>\n",
       "      <td>270.796572</td>\n",
       "    </tr>\n",
       "    <tr>\n",
       "      <th>Wallace Environmental</th>\n",
       "      <td>408.857065</td>\n",
       "    </tr>\n",
       "    <tr>\n",
       "      <th>Yugo</th>\n",
       "      <td>221.251107</td>\n",
       "    </tr>\n",
       "    <tr>\n",
       "      <th>smart</th>\n",
       "      <td>153.498052</td>\n",
       "    </tr>\n",
       "  </tbody>\n",
       "</table>\n",
       "<p>127 rows × 1 columns</p>\n",
       "</div>"
      ],
      "text/plain": [
       "                             CO2 Emission Grams/Km\n",
       "Make                                              \n",
       "AM General                              379.881345\n",
       "ASC Incorporated                        345.133719\n",
       "Acura                                   262.583000\n",
       "Alfa Romeo                              288.287195\n",
       "American Motors Corporation             314.264744\n",
       "...                                            ...\n",
       "Volkswagen                              244.038998\n",
       "Volvo                                   270.796572\n",
       "Wallace Environmental                   408.857065\n",
       "Yugo                                    221.251107\n",
       "smart                                   153.498052\n",
       "\n",
       "[127 rows x 1 columns]"
      ]
     },
     "execution_count": 132,
     "metadata": {},
     "output_type": "execute_result"
    }
   ],
   "source": [
    "### your code us here\n",
    "avg_CO2=cars.groupby(\"Make\")[[\"CO2 Emission Grams/Km\"]].mean()\n",
    "avg_CO2"
   ]
  },
  {
   "cell_type": "code",
   "execution_count": 133,
   "metadata": {},
   "outputs": [
    {
     "data": {
      "text/html": [
       "<div>\n",
       "<style scoped>\n",
       "    .dataframe tbody tr th:only-of-type {\n",
       "        vertical-align: middle;\n",
       "    }\n",
       "\n",
       "    .dataframe tbody tr th {\n",
       "        vertical-align: top;\n",
       "    }\n",
       "\n",
       "    .dataframe thead th {\n",
       "        text-align: right;\n",
       "    }\n",
       "</style>\n",
       "<table border=\"1\" class=\"dataframe\">\n",
       "  <thead>\n",
       "    <tr style=\"text-align: right;\">\n",
       "      <th></th>\n",
       "      <th>CO2 Emission Grams/Km</th>\n",
       "    </tr>\n",
       "    <tr>\n",
       "      <th>Make</th>\n",
       "      <th></th>\n",
       "    </tr>\n",
       "  </thead>\n",
       "  <tbody>\n",
       "    <tr>\n",
       "      <th>Fisker</th>\n",
       "      <td>105.011992</td>\n",
       "    </tr>\n",
       "    <tr>\n",
       "      <th>smart</th>\n",
       "      <td>153.498052</td>\n",
       "    </tr>\n",
       "    <tr>\n",
       "      <th>Fiat</th>\n",
       "      <td>189.311494</td>\n",
       "    </tr>\n",
       "    <tr>\n",
       "      <th>Daihatsu</th>\n",
       "      <td>192.742404</td>\n",
       "    </tr>\n",
       "    <tr>\n",
       "      <th>MINI</th>\n",
       "      <td>194.935105</td>\n",
       "    </tr>\n",
       "    <tr>\n",
       "      <th>...</th>\n",
       "      <td>...</td>\n",
       "    </tr>\n",
       "    <tr>\n",
       "      <th>Laforza Automobile Inc</th>\n",
       "      <td>502.012683</td>\n",
       "    </tr>\n",
       "    <tr>\n",
       "      <th>Bugatti</th>\n",
       "      <td>542.497235</td>\n",
       "    </tr>\n",
       "    <tr>\n",
       "      <th>Superior Coaches Div E.p. Dutton</th>\n",
       "      <td>552.213951</td>\n",
       "    </tr>\n",
       "    <tr>\n",
       "      <th>S and S Coach Company  E.p. Dutton</th>\n",
       "      <td>552.213951</td>\n",
       "    </tr>\n",
       "    <tr>\n",
       "      <th>Vector</th>\n",
       "      <td>651.919248</td>\n",
       "    </tr>\n",
       "  </tbody>\n",
       "</table>\n",
       "<p>127 rows × 1 columns</p>\n",
       "</div>"
      ],
      "text/plain": [
       "                                    CO2 Emission Grams/Km\n",
       "Make                                                     \n",
       "Fisker                                         105.011992\n",
       "smart                                          153.498052\n",
       "Fiat                                           189.311494\n",
       "Daihatsu                                       192.742404\n",
       "MINI                                           194.935105\n",
       "...                                                   ...\n",
       "Laforza Automobile Inc                         502.012683\n",
       "Bugatti                                        542.497235\n",
       "Superior Coaches Div E.p. Dutton               552.213951\n",
       "S and S Coach Company  E.p. Dutton             552.213951\n",
       "Vector                                         651.919248\n",
       "\n",
       "[127 rows x 1 columns]"
      ]
     },
     "execution_count": 133,
     "metadata": {},
     "output_type": "execute_result"
    }
   ],
   "source": [
    "avg_CO2.sort_values(by=[\"CO2 Emission Grams/Km\"])"
   ]
  },
  {
   "cell_type": "code",
   "execution_count": 134,
   "metadata": {},
   "outputs": [
    {
     "data": {
      "text/html": [
       "<div>\n",
       "<style scoped>\n",
       "    .dataframe tbody tr th:only-of-type {\n",
       "        vertical-align: middle;\n",
       "    }\n",
       "\n",
       "    .dataframe tbody tr th {\n",
       "        vertical-align: top;\n",
       "    }\n",
       "\n",
       "    .dataframe thead th {\n",
       "        text-align: right;\n",
       "    }\n",
       "</style>\n",
       "<table border=\"1\" class=\"dataframe\">\n",
       "  <thead>\n",
       "    <tr style=\"text-align: right;\">\n",
       "      <th></th>\n",
       "      <th>CO2 Emission Grams/Km</th>\n",
       "    </tr>\n",
       "    <tr>\n",
       "      <th>Make</th>\n",
       "      <th></th>\n",
       "    </tr>\n",
       "  </thead>\n",
       "  <tbody>\n",
       "    <tr>\n",
       "      <th>AM General</th>\n",
       "      <td>379.881345</td>\n",
       "    </tr>\n",
       "    <tr>\n",
       "      <th>ASC Incorporated</th>\n",
       "      <td>345.133719</td>\n",
       "    </tr>\n",
       "    <tr>\n",
       "      <th>Acura</th>\n",
       "      <td>262.583000</td>\n",
       "    </tr>\n",
       "    <tr>\n",
       "      <th>Alfa Romeo</th>\n",
       "      <td>288.287195</td>\n",
       "    </tr>\n",
       "    <tr>\n",
       "      <th>American Motors Corporation</th>\n",
       "      <td>314.264744</td>\n",
       "    </tr>\n",
       "    <tr>\n",
       "      <th>...</th>\n",
       "      <td>...</td>\n",
       "    </tr>\n",
       "    <tr>\n",
       "      <th>Volkswagen</th>\n",
       "      <td>244.038998</td>\n",
       "    </tr>\n",
       "    <tr>\n",
       "      <th>Volvo</th>\n",
       "      <td>270.796572</td>\n",
       "    </tr>\n",
       "    <tr>\n",
       "      <th>Wallace Environmental</th>\n",
       "      <td>408.857065</td>\n",
       "    </tr>\n",
       "    <tr>\n",
       "      <th>Yugo</th>\n",
       "      <td>221.251107</td>\n",
       "    </tr>\n",
       "    <tr>\n",
       "      <th>smart</th>\n",
       "      <td>153.498052</td>\n",
       "    </tr>\n",
       "  </tbody>\n",
       "</table>\n",
       "<p>127 rows × 1 columns</p>\n",
       "</div>"
      ],
      "text/plain": [
       "                             CO2 Emission Grams/Km\n",
       "Make                                              \n",
       "AM General                              379.881345\n",
       "ASC Incorporated                        345.133719\n",
       "Acura                                   262.583000\n",
       "Alfa Romeo                              288.287195\n",
       "American Motors Corporation             314.264744\n",
       "...                                            ...\n",
       "Volkswagen                              244.038998\n",
       "Volvo                                   270.796572\n",
       "Wallace Environmental                   408.857065\n",
       "Yugo                                    221.251107\n",
       "smart                                   153.498052\n",
       "\n",
       "[127 rows x 1 columns]"
      ]
     },
     "execution_count": 134,
     "metadata": {},
     "output_type": "execute_result"
    }
   ],
   "source": [
    "avg_CO2.sort_values(by=[\"Make\"])"
   ]
  },
  {
   "cell_type": "markdown",
   "metadata": {},
   "source": [
    "# (Optional) "
   ]
  },
  {
   "cell_type": "markdown",
   "metadata": {
    "id": "PQDBkdTO6Fg8"
   },
   "source": [
    "Use `pd.cut` or `pd.qcut` to create 4 groups (bins) of cars, by Year. We want to explore how cars have evolved decade by decade."
   ]
  },
  {
   "cell_type": "code",
   "execution_count": 135,
   "metadata": {
    "colab": {
     "base_uri": "https://localhost:8080/"
    },
    "executionInfo": {
     "elapsed": 234,
     "status": "ok",
     "timestamp": 1623145662903,
     "user": {
      "displayName": "Ignacio Soteras",
      "photoUrl": "",
      "userId": "02050793736257155229"
     },
     "user_tz": -120
    },
    "id": "C70ymFKC6Fg8",
    "outputId": "b951d08b-a80a-4e63-ea09-8940423f97ee"
   },
   "outputs": [
    {
     "data": {
      "text/plain": [
       "count    35952.00000\n",
       "mean      2000.71640\n",
       "std         10.08529\n",
       "min       1984.00000\n",
       "25%       1991.00000\n",
       "50%       2001.00000\n",
       "75%       2010.00000\n",
       "max       2017.00000\n",
       "Name: Year, dtype: float64"
      ]
     },
     "execution_count": 135,
     "metadata": {},
     "output_type": "execute_result"
    }
   ],
   "source": [
    "cars['Year'].describe()"
   ]
  },
  {
   "cell_type": "code",
   "execution_count": 136,
   "metadata": {
    "executionInfo": {
     "elapsed": 229,
     "status": "ok",
     "timestamp": 1623145807038,
     "user": {
      "displayName": "Ignacio Soteras",
      "photoUrl": "",
      "userId": "02050793736257155229"
     },
     "user_tz": -120
    },
    "id": "rhEot_x1rsMg"
   },
   "outputs": [
    {
     "data": {
      "text/plain": [
       "0        1884-1992\n",
       "1        1884-1992\n",
       "2        1884-1992\n",
       "3        1884-1992\n",
       "4        1884-1992\n",
       "           ...    \n",
       "35947    2010-2016\n",
       "35948    2010-2016\n",
       "35949    2010-2016\n",
       "35950    2010-2016\n",
       "35951    2010-2016\n",
       "Name: Year, Length: 35952, dtype: category\n",
       "Categories (4, object): ['1884-1992' < '1993-2000' < '2001-2009' < '2010-2016']"
      ]
     },
     "execution_count": 136,
     "metadata": {},
     "output_type": "execute_result"
    }
   ],
   "source": [
    "## your code here\n",
    "cars['Year'] = pd.qcut(cars[\"Year\"], [0, 0.25, 0.5, 0.75, 1], labels=['1884-1992', '1993-2000', '2001-2009', \"2010-2016\"])\n",
    "cars[\"Year\"]"
   ]
  },
  {
   "cell_type": "markdown",
   "metadata": {
    "id": "fmGwGGya6Fg8"
   },
   "source": [
    "### Did cars consume more gas in the eighties?"
   ]
  },
  {
   "cell_type": "markdown",
   "metadata": {
    "colab": {
     "base_uri": "https://localhost:8080/",
     "height": 198
    },
    "executionInfo": {
     "elapsed": 256,
     "status": "ok",
     "timestamp": 1623146140731,
     "user": {
      "displayName": "Ignacio Soteras",
      "photoUrl": "",
      "userId": "02050793736257155229"
     },
     "user_tz": -120
    },
    "id": "_sOkpVbvwulT",
    "outputId": "0d79ee50-8241-4cc6-8e2d-b3bec5770bb6"
   },
   "source": [
    "show the average City_Km/Liter by year_range"
   ]
  },
  {
   "cell_type": "code",
   "execution_count": 137,
   "metadata": {},
   "outputs": [
    {
     "data": {
      "text/plain": [
       "<seaborn.axisgrid.FacetGrid at 0x7ff6923c9a00>"
      ]
     },
     "execution_count": 137,
     "metadata": {},
     "output_type": "execute_result"
    },
    {
     "data": {
      "image/png": "[encoded data removed]",
      "text/plain": [
       "<Figure size 360x360 with 1 Axes>"
      ]
     },
     "metadata": {
      "needs_background": "light"
     },
     "output_type": "display_data"
    }
   ],
   "source": [
    "#insight_em = sns.catplot(data=cars,kind='count',x='Year',hue='Year')\n",
    "#insight_em\n",
    "\n",
    "insight_em = sns.catplot(data=cars,kind='count',x='Year')\n",
    "insight_em"
   ]
  },
  {
   "cell_type": "code",
   "execution_count": 138,
   "metadata": {},
   "outputs": [
    {
     "data": {
      "text/html": [
       "<div>\n",
       "<style scoped>\n",
       "    .dataframe tbody tr th:only-of-type {\n",
       "        vertical-align: middle;\n",
       "    }\n",
       "\n",
       "    .dataframe tbody tr th {\n",
       "        vertical-align: top;\n",
       "    }\n",
       "\n",
       "    .dataframe thead th {\n",
       "        text-align: right;\n",
       "    }\n",
       "</style>\n",
       "<table border=\"1\" class=\"dataframe\">\n",
       "  <thead>\n",
       "    <tr style=\"text-align: right;\">\n",
       "      <th></th>\n",
       "      <th>Make</th>\n",
       "      <th>Model</th>\n",
       "      <th>Year</th>\n",
       "      <th>Engine Displacement</th>\n",
       "      <th>Cylinders</th>\n",
       "      <th>Transmission</th>\n",
       "      <th>Drivetrain</th>\n",
       "      <th>Vehicle Class</th>\n",
       "      <th>Fuel Type</th>\n",
       "      <th>Fuel Barrels/Year</th>\n",
       "      <th>City km/liter</th>\n",
       "      <th>Highway MPG</th>\n",
       "      <th>Combined MPG</th>\n",
       "      <th>CO2 Emission Grams/Km</th>\n",
       "      <th>Fuel Cost/Year</th>\n",
       "    </tr>\n",
       "  </thead>\n",
       "  <tbody>\n",
       "    <tr>\n",
       "      <th>0</th>\n",
       "      <td>AM General</td>\n",
       "      <td>DJ Po Vehicle 2WD</td>\n",
       "      <td>1884-1992</td>\n",
       "      <td>2.5</td>\n",
       "      <td>4.0</td>\n",
       "      <td>Automatic 3-spd</td>\n",
       "      <td>2-Wheel Drive</td>\n",
       "      <td>Special Purpose Vehicle 2WD</td>\n",
       "      <td>Regular</td>\n",
       "      <td>19.388824</td>\n",
       "      <td>4.755099</td>\n",
       "      <td>17</td>\n",
       "      <td>17</td>\n",
       "      <td>324.831736</td>\n",
       "      <td>1950</td>\n",
       "    </tr>\n",
       "    <tr>\n",
       "      <th>1</th>\n",
       "      <td>AM General</td>\n",
       "      <td>FJ8c Post Office</td>\n",
       "      <td>1884-1992</td>\n",
       "      <td>4.2</td>\n",
       "      <td>6.0</td>\n",
       "      <td>Automatic 3-spd</td>\n",
       "      <td>2-Wheel Drive</td>\n",
       "      <td>Special Purpose Vehicle 2WD</td>\n",
       "      <td>Regular</td>\n",
       "      <td>25.354615</td>\n",
       "      <td>3.434238</td>\n",
       "      <td>13</td>\n",
       "      <td>13</td>\n",
       "      <td>424.779962</td>\n",
       "      <td>2550</td>\n",
       "    </tr>\n",
       "    <tr>\n",
       "      <th>2</th>\n",
       "      <td>AM General</td>\n",
       "      <td>Post Office DJ5 2WD</td>\n",
       "      <td>1884-1992</td>\n",
       "      <td>2.5</td>\n",
       "      <td>4.0</td>\n",
       "      <td>Automatic 3-spd</td>\n",
       "      <td>Rear-Wheel Drive</td>\n",
       "      <td>Special Purpose Vehicle 2WD</td>\n",
       "      <td>Regular</td>\n",
       "      <td>20.600625</td>\n",
       "      <td>4.226755</td>\n",
       "      <td>17</td>\n",
       "      <td>16</td>\n",
       "      <td>345.133719</td>\n",
       "      <td>2100</td>\n",
       "    </tr>\n",
       "    <tr>\n",
       "      <th>3</th>\n",
       "      <td>AM General</td>\n",
       "      <td>Post Office DJ8 2WD</td>\n",
       "      <td>1884-1992</td>\n",
       "      <td>4.2</td>\n",
       "      <td>6.0</td>\n",
       "      <td>Automatic 3-spd</td>\n",
       "      <td>Rear-Wheel Drive</td>\n",
       "      <td>Special Purpose Vehicle 2WD</td>\n",
       "      <td>Regular</td>\n",
       "      <td>25.354615</td>\n",
       "      <td>3.434238</td>\n",
       "      <td>13</td>\n",
       "      <td>13</td>\n",
       "      <td>424.779962</td>\n",
       "      <td>2550</td>\n",
       "    </tr>\n",
       "    <tr>\n",
       "      <th>4</th>\n",
       "      <td>ASC Incorporated</td>\n",
       "      <td>GNX</td>\n",
       "      <td>1884-1992</td>\n",
       "      <td>3.8</td>\n",
       "      <td>6.0</td>\n",
       "      <td>Automatic 4-spd</td>\n",
       "      <td>Rear-Wheel Drive</td>\n",
       "      <td>Midsize Cars</td>\n",
       "      <td>Premium</td>\n",
       "      <td>20.600625</td>\n",
       "      <td>3.698410</td>\n",
       "      <td>21</td>\n",
       "      <td>16</td>\n",
       "      <td>345.133719</td>\n",
       "      <td>2550</td>\n",
       "    </tr>\n",
       "    <tr>\n",
       "      <th>...</th>\n",
       "      <td>...</td>\n",
       "      <td>...</td>\n",
       "      <td>...</td>\n",
       "      <td>...</td>\n",
       "      <td>...</td>\n",
       "      <td>...</td>\n",
       "      <td>...</td>\n",
       "      <td>...</td>\n",
       "      <td>...</td>\n",
       "      <td>...</td>\n",
       "      <td>...</td>\n",
       "      <td>...</td>\n",
       "      <td>...</td>\n",
       "      <td>...</td>\n",
       "      <td>...</td>\n",
       "    </tr>\n",
       "    <tr>\n",
       "      <th>35947</th>\n",
       "      <td>smart</td>\n",
       "      <td>fortwo coupe</td>\n",
       "      <td>2010-2016</td>\n",
       "      <td>1.0</td>\n",
       "      <td>3.0</td>\n",
       "      <td>Auto(AM5)</td>\n",
       "      <td>Rear-Wheel Drive</td>\n",
       "      <td>Two Seaters</td>\n",
       "      <td>Premium</td>\n",
       "      <td>9.155833</td>\n",
       "      <td>8.981854</td>\n",
       "      <td>38</td>\n",
       "      <td>36</td>\n",
       "      <td>151.614948</td>\n",
       "      <td>1100</td>\n",
       "    </tr>\n",
       "    <tr>\n",
       "      <th>35948</th>\n",
       "      <td>smart</td>\n",
       "      <td>fortwo coupe</td>\n",
       "      <td>2010-2016</td>\n",
       "      <td>1.0</td>\n",
       "      <td>3.0</td>\n",
       "      <td>Auto(AM5)</td>\n",
       "      <td>Rear-Wheel Drive</td>\n",
       "      <td>Two Seaters</td>\n",
       "      <td>Premium</td>\n",
       "      <td>9.155833</td>\n",
       "      <td>8.981854</td>\n",
       "      <td>38</td>\n",
       "      <td>36</td>\n",
       "      <td>150.993575</td>\n",
       "      <td>1100</td>\n",
       "    </tr>\n",
       "    <tr>\n",
       "      <th>35949</th>\n",
       "      <td>smart</td>\n",
       "      <td>fortwo coupe</td>\n",
       "      <td>2010-2016</td>\n",
       "      <td>1.0</td>\n",
       "      <td>3.0</td>\n",
       "      <td>Auto(AM5)</td>\n",
       "      <td>Rear-Wheel Drive</td>\n",
       "      <td>Two Seaters</td>\n",
       "      <td>Premium</td>\n",
       "      <td>9.155833</td>\n",
       "      <td>8.981854</td>\n",
       "      <td>38</td>\n",
       "      <td>36</td>\n",
       "      <td>151.614948</td>\n",
       "      <td>1100</td>\n",
       "    </tr>\n",
       "    <tr>\n",
       "      <th>35950</th>\n",
       "      <td>smart</td>\n",
       "      <td>fortwo coupe</td>\n",
       "      <td>2010-2016</td>\n",
       "      <td>0.9</td>\n",
       "      <td>3.0</td>\n",
       "      <td>Auto(AM6)</td>\n",
       "      <td>Rear-Wheel Drive</td>\n",
       "      <td>Two Seaters</td>\n",
       "      <td>Premium</td>\n",
       "      <td>9.155833</td>\n",
       "      <td>8.981854</td>\n",
       "      <td>39</td>\n",
       "      <td>36</td>\n",
       "      <td>152.857693</td>\n",
       "      <td>1100</td>\n",
       "    </tr>\n",
       "    <tr>\n",
       "      <th>35951</th>\n",
       "      <td>smart</td>\n",
       "      <td>fortwo coupe</td>\n",
       "      <td>2010-2016</td>\n",
       "      <td>0.9</td>\n",
       "      <td>3.0</td>\n",
       "      <td>Manual 5-spd</td>\n",
       "      <td>Rear-Wheel Drive</td>\n",
       "      <td>Two Seaters</td>\n",
       "      <td>Premium</td>\n",
       "      <td>9.417429</td>\n",
       "      <td>8.453510</td>\n",
       "      <td>39</td>\n",
       "      <td>35</td>\n",
       "      <td>158.450048</td>\n",
       "      <td>1150</td>\n",
       "    </tr>\n",
       "  </tbody>\n",
       "</table>\n",
       "<p>35952 rows × 15 columns</p>\n",
       "</div>"
      ],
      "text/plain": [
       "                   Make                Model       Year  Engine Displacement  \\\n",
       "0            AM General    DJ Po Vehicle 2WD  1884-1992                  2.5   \n",
       "1            AM General     FJ8c Post Office  1884-1992                  4.2   \n",
       "2            AM General  Post Office DJ5 2WD  1884-1992                  2.5   \n",
       "3            AM General  Post Office DJ8 2WD  1884-1992                  4.2   \n",
       "4      ASC Incorporated                  GNX  1884-1992                  3.8   \n",
       "...                 ...                  ...        ...                  ...   \n",
       "35947             smart         fortwo coupe  2010-2016                  1.0   \n",
       "35948             smart         fortwo coupe  2010-2016                  1.0   \n",
       "35949             smart         fortwo coupe  2010-2016                  1.0   \n",
       "35950             smart         fortwo coupe  2010-2016                  0.9   \n",
       "35951             smart         fortwo coupe  2010-2016                  0.9   \n",
       "\n",
       "       Cylinders     Transmission        Drivetrain  \\\n",
       "0            4.0  Automatic 3-spd     2-Wheel Drive   \n",
       "1            6.0  Automatic 3-spd     2-Wheel Drive   \n",
       "2            4.0  Automatic 3-spd  Rear-Wheel Drive   \n",
       "3            6.0  Automatic 3-spd  Rear-Wheel Drive   \n",
       "4            6.0  Automatic 4-spd  Rear-Wheel Drive   \n",
       "...          ...              ...               ...   \n",
       "35947        3.0        Auto(AM5)  Rear-Wheel Drive   \n",
       "35948        3.0        Auto(AM5)  Rear-Wheel Drive   \n",
       "35949        3.0        Auto(AM5)  Rear-Wheel Drive   \n",
       "35950        3.0        Auto(AM6)  Rear-Wheel Drive   \n",
       "35951        3.0     Manual 5-spd  Rear-Wheel Drive   \n",
       "\n",
       "                     Vehicle Class Fuel Type  Fuel Barrels/Year  \\\n",
       "0      Special Purpose Vehicle 2WD   Regular          19.388824   \n",
       "1      Special Purpose Vehicle 2WD   Regular          25.354615   \n",
       "2      Special Purpose Vehicle 2WD   Regular          20.600625   \n",
       "3      Special Purpose Vehicle 2WD   Regular          25.354615   \n",
       "4                     Midsize Cars   Premium          20.600625   \n",
       "...                            ...       ...                ...   \n",
       "35947                  Two Seaters   Premium           9.155833   \n",
       "35948                  Two Seaters   Premium           9.155833   \n",
       "35949                  Two Seaters   Premium           9.155833   \n",
       "35950                  Two Seaters   Premium           9.155833   \n",
       "35951                  Two Seaters   Premium           9.417429   \n",
       "\n",
       "       City km/liter  Highway MPG  Combined MPG  CO2 Emission Grams/Km  \\\n",
       "0           4.755099           17            17             324.831736   \n",
       "1           3.434238           13            13             424.779962   \n",
       "2           4.226755           17            16             345.133719   \n",
       "3           3.434238           13            13             424.779962   \n",
       "4           3.698410           21            16             345.133719   \n",
       "...              ...          ...           ...                    ...   \n",
       "35947       8.981854           38            36             151.614948   \n",
       "35948       8.981854           38            36             150.993575   \n",
       "35949       8.981854           38            36             151.614948   \n",
       "35950       8.981854           39            36             152.857693   \n",
       "35951       8.453510           39            35             158.450048   \n",
       "\n",
       "       Fuel Cost/Year  \n",
       "0                1950  \n",
       "1                2550  \n",
       "2                2100  \n",
       "3                2550  \n",
       "4                2550  \n",
       "...               ...  \n",
       "35947            1100  \n",
       "35948            1100  \n",
       "35949            1100  \n",
       "35950            1100  \n",
       "35951            1150  \n",
       "\n",
       "[35952 rows x 15 columns]"
      ]
     },
     "execution_count": 138,
     "metadata": {},
     "output_type": "execute_result"
    }
   ],
   "source": [
    "### your code is here\n",
    "\n",
    "cars['City MPG'] = cars['City MPG'] / 3.78541\n",
    "cars.rename(columns={\"City MPG\" : \"City km/liter\"}, inplace=True)\n",
    "cars\n"
   ]
  },
  {
   "cell_type": "code",
   "execution_count": null,
   "metadata": {},
   "outputs": [],
   "source": []
  },
  {
   "cell_type": "code",
   "execution_count": 139,
   "metadata": {},
   "outputs": [
    {
     "data": {
      "text/plain": [
       "count    35952.000000\n",
       "mean         4.661619\n",
       "std          1.259929\n",
       "min          1.585033\n",
       "25%          3.962583\n",
       "50%          4.490927\n",
       "75%          5.283444\n",
       "max         15.321986\n",
       "Name: City km/liter, dtype: float64"
      ]
     },
     "execution_count": 139,
     "metadata": {},
     "output_type": "execute_result"
    }
   ],
   "source": [
    "cars['City km/liter'].describe()"
   ]
  },
  {
   "cell_type": "code",
   "execution_count": 140,
   "metadata": {},
   "outputs": [
    {
     "data": {
      "text/plain": [
       "0         7,09 - 9,83\n",
       "1          1,5 - 4,34\n",
       "2         4,35 - 7,08\n",
       "3          1,5 - 4,34\n",
       "4          1,5 - 4,34\n",
       "             ...     \n",
       "35947    9,85 - 15,32\n",
       "35948    9,85 - 15,32\n",
       "35949    9,85 - 15,32\n",
       "35950    9,85 - 15,32\n",
       "35951    9,85 - 15,32\n",
       "Name: City km/liter, Length: 35952, dtype: category\n",
       "Categories (5, object): ['1,5 - 4,34' < '4,35 - 7,08' < '7,09 - 9,83' < '9,84 - 12,58' < '9,85 - 15,32']"
      ]
     },
     "execution_count": 140,
     "metadata": {},
     "output_type": "execute_result"
    }
   ],
   "source": [
    "cars[\"City km/liter\"] = pd.qcut(cars[\"City km/liter\"], [0, 0.2, 0.4, 0.6, 0.8, 1], labels=['1,5 - 4,34', '4,35 - 7,08', '7,09 - 9,83', \"9,84 - 12,58\",\"9,85 - 15,32\"])\n",
    "cars[\"City km/liter\"]"
   ]
  },
  {
   "cell_type": "code",
   "execution_count": 141,
   "metadata": {},
   "outputs": [
    {
     "data": {
      "text/plain": [
       "<seaborn.axisgrid.FacetGrid at 0x7ff692cf94f0>"
      ]
     },
     "execution_count": 141,
     "metadata": {},
     "output_type": "execute_result"
    },
    {
     "data": {
      "image/png": "[encoded data removed]",
      "text/plain": [
       "<Figure size 456.75x360 with 1 Axes>"
      ]
     },
     "metadata": {
      "needs_background": "light"
     },
     "output_type": "display_data"
    }
   ],
   "source": [
    "#insight_em = cars.groupby([\"City km/liter\",\"Year\" ]).size().unstack().plot(kind='bar',stacked=False)\n",
    "#xplt.show()\n",
    "import numpy as np\n",
    "import pandas as pd\n",
    "import matplotlib.pyplot as plt\n",
    "%matplotlib inline\n",
    "import seaborn as sns\n",
    "import statsmodels.api as sm\n",
    "from scipy.stats import boxcox\n",
    "\n",
    "insight_em = sns.catplot(data=cars,kind='count',x='Year',hue='City km/liter')\n",
    "insight_em"
   ]
  },
  {
   "cell_type": "markdown",
   "metadata": {
    "id": "ZZ96MZrR6Fg9"
   },
   "source": [
    "Which brands are more environment friendly?"
   ]
  },
  {
   "cell_type": "code",
   "execution_count": 142,
   "metadata": {
    "colab": {
     "base_uri": "https://localhost:8080/",
     "height": 437
    },
    "executionInfo": {
     "elapsed": 10,
     "status": "ok",
     "timestamp": 1623146393112,
     "user": {
      "displayName": "Ignacio Soteras",
      "photoUrl": "",
      "userId": "02050793736257155229"
     },
     "user_tz": -120
    },
    "id": "7qSlKjqF6Fg9",
    "outputId": "85d66c6b-ac7a-4585-b8af-aad43c4718a7"
   },
   "outputs": [
    {
     "data": {
      "text/plain": [
       "count    35952.000000\n",
       "mean       295.348614\n",
       "std         73.981118\n",
       "min         22.990791\n",
       "25%        245.442231\n",
       "50%        290.638922\n",
       "75%        345.133719\n",
       "max        788.877073\n",
       "Name: CO2 Emission Grams/Km, dtype: float64"
      ]
     },
     "execution_count": 142,
     "metadata": {},
     "output_type": "execute_result"
    }
   ],
   "source": [
    "### your code is here\n",
    "cars['CO2 Emission Grams/Km'].describe()\n"
   ]
  },
  {
   "cell_type": "markdown",
   "metadata": {
    "id": "dGHYkM8q6Fg9"
   },
   "source": [
    "Does the drivetrain affect fuel consumption?"
   ]
  },
  {
   "cell_type": "code",
   "execution_count": 143,
   "metadata": {
    "colab": {
     "base_uri": "https://localhost:8080/",
     "height": 318
    },
    "executionInfo": {
     "elapsed": 245,
     "status": "ok",
     "timestamp": 1623146457215,
     "user": {
      "displayName": "Ignacio Soteras",
      "photoUrl": "",
      "userId": "02050793736257155229"
     },
     "user_tz": -120
    },
    "id": "HVpCAkXk6Fg9",
    "outputId": "da0f2f40-4193-40cf-ad1d-60988b00446c"
   },
   "outputs": [
    {
     "data": {
      "text/plain": [
       "0         482,6 - 635,7\n",
       "1        635,8 - 788,88\n",
       "2         482,6 - 635,7\n",
       "3        635,8 - 788,88\n",
       "4         482,6 - 635,7\n",
       "              ...      \n",
       "35947      22,9 - 176,1\n",
       "35948      22,9 - 176,1\n",
       "35949      22,9 - 176,1\n",
       "35950      22,9 - 176,1\n",
       "35951      22,9 - 176,1\n",
       "Name: CO2 Emission Grams/Km, Length: 35952, dtype: category\n",
       "Categories (5, object): ['22,9 - 176,1' < '176,2 - 329,4' < '329,5 - 482,5' < '482,6 - 635,7' < '635,8 - 788,88']"
      ]
     },
     "execution_count": 143,
     "metadata": {},
     "output_type": "execute_result"
    }
   ],
   "source": [
    "## Your Code here\n",
    "cars[\"CO2 Emission Grams/Km\"] = pd.qcut(cars[\"CO2 Emission Grams/Km\"], [0, 0.2, 0.4, 0.6, 0.8, 1], labels=['22,9 - 176,1', '176,2 - 329,4', '329,5 - 482,5', \"482,6 - 635,7\",\"635,8 - 788,88\"])\n",
    "cars[\"CO2 Emission Grams/Km\"]\n",
    "\n"
   ]
  },
  {
   "cell_type": "markdown",
   "metadata": {
    "id": "2avLmljX6Fg9"
   },
   "source": [
    "Do cars with automatic transmission consume more fuel than cars with manual transmission?"
   ]
  },
  {
   "cell_type": "code",
   "execution_count": 144,
   "metadata": {
    "colab": {
     "base_uri": "https://localhost:8080/",
     "height": 138
    },
    "executionInfo": {
     "elapsed": 246,
     "status": "ok",
     "timestamp": 1623146549152,
     "user": {
      "displayName": "Ignacio Soteras",
      "photoUrl": "",
      "userId": "02050793736257155229"
     },
     "user_tz": -120
    },
    "id": "VZv72ngN6Fg9",
    "outputId": "88712749-0f24-4cc6-a007-0b05f79e885d"
   },
   "outputs": [],
   "source": [
    "## Your Code here"
   ]
  },
  {
   "cell_type": "markdown",
   "metadata": {
    "id": "tJsmxD3K6Fg9"
   },
   "source": [
    "Use `groupby` and `agg` with different aggregation measures for different columns:"
   ]
  },
  {
   "cell_type": "markdown",
   "metadata": {},
   "source": [
    "aggregate with average City_Km/Liter and the count of the Trans"
   ]
  },
  {
   "cell_type": "code",
   "execution_count": 145,
   "metadata": {
    "colab": {
     "base_uri": "https://localhost:8080/",
     "height": 138
    },
    "executionInfo": {
     "elapsed": 268,
     "status": "ok",
     "timestamp": 1623146659201,
     "user": {
      "displayName": "Ignacio Soteras",
      "photoUrl": "",
      "userId": "02050793736257155229"
     },
     "user_tz": -120
    },
    "id": "1rVFzsdG6Fg9",
    "outputId": "ad726e32-d3d9-4d69-b9e8-c7ae43a40c96"
   },
   "outputs": [],
   "source": [
    "## your code is here"
   ]
  },
  {
   "cell_type": "markdown",
   "metadata": {},
   "source": [
    "aggregate with average City_Km/Liter and the minimum of the Trans"
   ]
  },
  {
   "cell_type": "code",
   "execution_count": 146,
   "metadata": {
    "colab": {
     "base_uri": "https://localhost:8080/",
     "height": 138
    },
    "executionInfo": {
     "elapsed": 228,
     "status": "ok",
     "timestamp": 1623147799942,
     "user": {
      "displayName": "Ignacio Soteras",
      "photoUrl": "",
      "userId": "02050793736257155229"
     },
     "user_tz": -120
    },
    "id": "qsrSdXAdJWAO",
    "outputId": "89b30e64-6827-4ac0-f386-87bedec3fd4b"
   },
   "outputs": [],
   "source": [
    "### your code is here"
   ]
  },
  {
   "cell_type": "code",
   "execution_count": null,
   "metadata": {},
   "outputs": [],
   "source": []
  }
 ],
 "metadata": {
  "colab": {
   "name": "Pandas_Grouping_Joining_Cars_Structure.ipynb",
   "provenance": []
  },
  "kernelspec": {
   "display_name": "Python 3 (ipykernel)",
   "language": "python",
   "name": "python3"
  },
  "language_info": {
   "codemirror_mode": {
    "name": "ipython",
    "version": 3
   },
   "file_extension": ".py",
   "mimetype": "text/x-python",
   "name": "python",
   "nbconvert_exporter": "python",
   "pygments_lexer": "ipython3",
   "version": "3.9.12"
  },
  "toc": {
   "base_numbering": 1,
   "nav_menu": {},
   "number_sections": true,
   "sideBar": true,
   "skip_h1_title": false,
   "title_cell": "Table of Contents",
   "title_sidebar": "Contents",
   "toc_cell": false,
   "toc_position": {},
   "toc_section_display": true,
   "toc_window_display": false
  },
  "varInspector": {
   "cols": {
    "lenName": 16,
    "lenType": 16,
    "lenVar": 40
   },
   "kernels_config": {
    "python": {
     "delete_cmd_postfix": "",
     "delete_cmd_prefix": "del ",
     "library": "var_list.py",
     "varRefreshCmd": "print(var_dic_list())"
    },
    "r": {
     "delete_cmd_postfix": ") ",
     "delete_cmd_prefix": "rm(",
     "library": "var_list.r",
     "varRefreshCmd": "cat(var_dic_list()) "
    }
   },
   "types_to_exclude": [
    "module",
    "function",
    "builtin_function_or_method",
    "instance",
    "_Feature"
   ],
   "window_display": false
  }
 },
 "nbformat": 4,
 "nbformat_minor": 1
}
