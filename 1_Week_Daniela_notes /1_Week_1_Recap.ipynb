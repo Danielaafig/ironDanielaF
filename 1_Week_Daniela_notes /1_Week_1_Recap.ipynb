{
 "cells": [
  {
   "cell_type": "markdown",
   "id": "3c82a3b9",
   "metadata": {},
   "source": [
    "# Notes Week 1 "
   ]
  },
  {
   "cell_type": "markdown",
   "id": "de93884b",
   "metadata": {},
   "source": [
    "**-> Markdown**\n",
    "\n",
    "It is a ‘markup language’ which allows you to format the text in a similar way as html.\n",
    "Uses # as section headings\n",
    "\n",
    "#title\n",
    "##subtitle\n",
    "###subtitle\n",
    "\n",
    "Boldface: **word**  <b>\n",
    "Italics: *word* <br>\n",
    "Mathematical symbols: <br>\n",
    "$ latex equation $ (inline ) <br>\n",
    "$$ latex equation $$ ( outline ) <br>\n",
    "Monospace font: `text` <br>\n",
    "Linebreaks: <br>\n",
    "    \n",
    "    > Indented quoting: > and a space\n",
    "Bullets: - and a space\n",
    "Numbered lists: 1. And a space\n",
    "Links: [ text link ] ( link )\n",
    "Links to other sections in the notebook [ test link ] ( #section )\n",
    "\n"
   ]
  },
  {
   "cell_type": "markdown",
   "id": "5ded3b21",
   "metadata": {},
   "source": [
    "# Arithmetic operators:\n",
    "\n",
    "+ Addition: 4 + 5\n",
    "- Subtraction: 3 - 7\n",
    "* multiplication: 3 * 4\n",
    "/ division: 4 / 5\n",
    "% modulus (remainder): 6 / 4\n",
    "***power\n"
   ]
  },
  {
   "cell_type": "markdown",
   "id": "ae910ead",
   "metadata": {},
   "source": [
    "#Comparison operators:\n",
    "\n",
    "== equality: ( a == b )\n",
    "!= not equal: ( a != b )\n",
    "> greater than: ( 5 > 6 )\n",
    "_< lower than: ( 5 < 6 )\n",
    "_>= greater equal: ( 6 >= 3 )\n",
    "_<= lower equal: ( 5 <= 4 )\n"
   ]
  },
  {
   "cell_type": "markdown",
   "id": "f0b269c1",
   "metadata": {},
   "source": [
    "### Mutable vs immutable :\n",
    "\n",
    "- Mutable variables are those which content can be **modified: lists**\n",
    "\n",
    "- Immutable variables are those which content **can’t be modified: strings, tuples**\n",
    "\n",
    "### Lists\n",
    "\n",
    "- Ordered sequences of values of any type ( even lists, tuples, dictionaries, booleans )\n",
    "- They are **mutable**\n",
    "- Allow duplicates <br>\n",
    "> The elements in each ‘slot’ can be accessed by **index**. ( first slot has index 0, second index 1, third index 2, and so on ) \n",
    "\n",
    "### Dictionaries (I):\n",
    "\n",
    "- **Unordered collection of data values**\n",
    "- They can contain elements of **any type: ( lists, dictionaries, tuples, booleans,...)**\n",
    "They contain **sets of key: value pairs**\n",
    "- Every element can be accessed by key.\n",
    "- **Keys can’t be duplicated.**\n",
    "- Some ways to create a dictionary:\n",
    "> my_dict = {‘A’: 1, ‘B’:[2,3,’John’]} <br>\n",
    "my_dict = dict(A = 1, B = 2) <br>\n",
    "my_dict = dict( zip( [‘A’,’B’],[1,2] ) ) <br>\n",
    "\n",
    "\n",
    "- To know the **keys** of a dictionary, you can use the method: **.keys()**\n",
    "- To know the **values** of a dictionary, you can use the method: **.values()**\n",
    "- To know the **items** of a dictionary, you can use the method: **.items()**\n"
   ]
  },
  {
   "cell_type": "markdown",
   "id": "d02fdc41",
   "metadata": {},
   "source": [
    "### Iterating through a dictionary:\n",
    "\n",
    "- for i in chocolates_and_brands.keys(): <br>\n",
    " \tprint(i) <br>\n",
    "     **(will print only the keys)**\n",
    "\n",
    "\n",
    "- for chocolate_brand in chocolates_and_brands.values(): <br>\n",
    "print(chocolate_brand)<br>\n",
    "   **(will print only the values)**\n",
    "\n",
    "\n",
    "- for choc_type, chocolate_brand in chocolates_and_brands.items(): <br>\n",
    "print(‘The best brand for the’ + choc_type + ‘is’ +chocolate_brand)<br>\n",
    " **(will print the keys and the values)**\n",
    "\n"
   ]
  },
  {
   "cell_type": "code",
   "execution_count": null,
   "id": "0b27f98f",
   "metadata": {},
   "outputs": [],
   "source": []
  }
 ],
 "metadata": {
  "kernelspec": {
   "display_name": "Python 3 (ipykernel)",
   "language": "python",
   "name": "python3"
  },
  "language_info": {
   "codemirror_mode": {
    "name": "ipython",
    "version": 3
   },
   "file_extension": ".py",
   "mimetype": "text/x-python",
   "name": "python",
   "nbconvert_exporter": "python",
   "pygments_lexer": "ipython3",
   "version": "3.9.12"
  }
 },
 "nbformat": 4,
 "nbformat_minor": 5
}
