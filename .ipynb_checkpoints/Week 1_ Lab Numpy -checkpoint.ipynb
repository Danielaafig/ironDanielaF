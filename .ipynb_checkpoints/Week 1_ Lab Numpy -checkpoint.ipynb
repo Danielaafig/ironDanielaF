{
 "cells": [
  {
   "cell_type": "markdown",
   "id": "14e6c0d4",
   "metadata": {},
   "source": [
    "# numpy exercises\n",
    "\n",
    "This is a collection of exercises that have been collected in the numpy mailing list, on stack overflow\n",
    "and in the numpy documentation. The goal of this collection is to offer a quick reference for both old\n",
    "and new users but also to provide a set of exercises for those who teach.\n",
    "\n",
    "\n",
    "If you find an error or think you've a better way to solve some of them, feel\n",
    "free to open an issue at <https://github.com/rougier/numpy-100>.\n",
    "File automatically generated. See the documentation to update questions/answers/hints programmatically.\n",
    "\n",
    "#### 1. Import the numpy package under the name `np` (★☆☆)\n",
    "`hint: import … as`\n",
    "\n",
    "#### 2. Create a null vector of size 10 (★☆☆)\n",
    "`hint: np.zeros`\n",
    "\n",
    "#### 3. Create a null vector of size 10 but the fifth value which is 1 (★☆☆)\n",
    "`hint: array[4]`\n",
    "\n",
    "#### 4. Create a vector with values ranging from 10 to 49 (★☆☆)\n",
    "`hint: arange`\n",
    "\n",
    "#### 5. Create a 3x3 matrix with values ranging from 0 to 8 (★☆☆)\n",
    "`hint: reshape`\n",
    "\n",
    "#### 6. Find indices of non-zero elements from [1,2,0,0,4,0] (★☆☆)\n",
    "`hint: np.nonzero`\n",
    "\n",
    "#### 7. Create a 3x3 identity matrix (★☆☆)\n",
    "`hint: np.eye`\n",
    "\n",
    "#### 8. Create a 3x3x3 array with random values (★☆☆)\n",
    "`hint: np.random.random`\n",
    "\n",
    "#### 9. Create a 10x10 array with random values and find the minimum and maximum values (★☆☆)\n",
    "`hint: min, max`\n",
    "\n",
    "#### 10. Create a random vector of size 30 and find the mean value (★☆☆)\n",
    "`hint: mean`\n",
    "\n",
    "#### 11. Create a 5x5 matrix with values 1,2,3,4 just below the diagonal (★☆☆)\n",
    "`hint: np.diag`\n",
    "\n",
    "#### 12. Normalize a 5x5 random matrix (★☆☆)\n",
    "`hint: (x -mean)/std`\n",
    "\n",
    "#### 13. How to find common values between two arrays? (★☆☆)\n",
    "`hint: np.intersect1d`\n",
    "\n",
    "#### 14. Create a random vector of size 10 and sort it (★★☆)\n",
    "`hint: sort`\n",
    "\n",
    "#### 15. Create random vector of size 10 and replace the maximum value by 0 (★★☆)\n",
    "`hint: argmax`\n",
    "\n",
    "#### 16. Subtract the mean of each row of a matrix (★★☆)\n",
    "`hint: mean(axis=,keepdims=)`\n",
    "\n",
    "#### 17. How to get the n largest values of an array (★★★)\n",
    "`Z = np.arange(10000)\n",
    "np.random.shuffle(Z)\n",
    "n = 5\n",
    "hint: np.argsort | np.argpartition`\n",
    "\n",
    "#### 18. Create a random 5*3 matrix and replace items that are larger than 4 by their squares ( Example:  6 --> 36) \n",
    "`hint: np.where`\n"
   ]
  },
  {
   "cell_type": "code",
   "execution_count": 2,
   "id": "abc597ce",
   "metadata": {},
   "outputs": [],
   "source": [
    "# 1. Import the numpy package under the name np (★☆☆)\n",
    "# hint: import … as\n",
    "    \n",
    "import numpy\n",
    "import numpy as np     "
   ]
  },
  {
   "cell_type": "code",
   "execution_count": 16,
   "id": "8c9aa5e5",
   "metadata": {},
   "outputs": [
    {
     "name": "stdout",
     "output_type": "stream",
     "text": [
      "[0. 0. 0. 0. 0. 0. 0. 0. 0. 0.]\n"
     ]
    }
   ],
   "source": [
    "# 2. Create a null vector of size 10 (★☆☆)\n",
    "hint: np.zeros\n",
    "\n",
    "x = np.zeros(10)\n",
    "print(x)"
   ]
  },
  {
   "cell_type": "code",
   "execution_count": 17,
   "id": "1dbb05d2",
   "metadata": {},
   "outputs": [
    {
     "name": "stdout",
     "output_type": "stream",
     "text": [
      "[0. 0. 0. 0. 1. 0. 0. 0. 0. 0.]\n"
     ]
    }
   ],
   "source": [
    "# 3. Create a null vector of size 10 but the fifth value which is 1 (★☆☆)\n",
    "#hint: array[4]\n",
    "\n",
    "x[4]=1\n",
    "print(x)\n"
   ]
  },
  {
   "cell_type": "code",
   "execution_count": 19,
   "id": "f2b3e534",
   "metadata": {},
   "outputs": [
    {
     "name": "stdout",
     "output_type": "stream",
     "text": [
      "[10 11 12 13 14 15 16 17 18 19 20 21 22 23 24 25 26 27 28 29 30 31 32 33\n",
      " 34 35 36 37 38 39 40 41 42 43 44 45 46 47 48]\n"
     ]
    }
   ],
   "source": [
    "# 4. Create a vector with values ranging from 10 to 49 (★☆☆)\n",
    "# hint: arange\n",
    "y = np.arange(10,49)\n",
    "print(y)"
   ]
  },
  {
   "cell_type": "code",
   "execution_count": 26,
   "id": "733a3b06",
   "metadata": {},
   "outputs": [
    {
     "name": "stdout",
     "output_type": "stream",
     "text": [
      "[[0 1 2]\n",
      " [3 4 5]\n",
      " [6 7 8]]\n"
     ]
    }
   ],
   "source": [
    "#5. Create a 3x3 matrix with values ranging from 0 to 8 (★☆☆)\n",
    "#hint: reshape\n",
    "\n",
    "z = np.arange(0, 9).reshape((3, 3))\n",
    "print(z)"
   ]
  },
  {
   "cell_type": "code",
   "execution_count": 39,
   "id": "db695806",
   "metadata": {},
   "outputs": [
    {
     "name": "stdout",
     "output_type": "stream",
     "text": [
      "[1, 2, 0, 0, 4, 0]\n",
      "(array([0, 1, 4]),)\n"
     ]
    }
   ],
   "source": [
    "# 6. Find indices of non-zero elements from [1,2,0,0,4,0] (★☆☆)\n",
    "#hint: np.nonzero\n",
    "\n",
    "#incorrect!\n",
    "w = [1,2,0,0,4,0]\n",
    "numpy.nonzero(w)\n",
    "print(w) #incorrect\n",
    "\n",
    "i = numpy.nonzero([1,2,0,0,4,0])\n",
    "print(i)"
   ]
  },
  {
   "cell_type": "code",
   "execution_count": 31,
   "id": "e1d71135",
   "metadata": {},
   "outputs": [
    {
     "name": "stdout",
     "output_type": "stream",
     "text": [
      "[[1. 0. 0.]\n",
      " [0. 1. 0.]\n",
      " [0. 0. 1.]]\n"
     ]
    }
   ],
   "source": [
    "#7. Create a 3x3 identity matrix (★☆☆)\n",
    "#hint: np.eye\n",
    "\n",
    "b = np.eye(3,3)\n",
    "print(b)"
   ]
  },
  {
   "cell_type": "code",
   "execution_count": 37,
   "id": "0a067709",
   "metadata": {},
   "outputs": [
    {
     "name": "stdout",
     "output_type": "stream",
     "text": [
      "[[[0.29204656 0.74163671 0.91779939]\n",
      "  [0.38937018 0.37590851 0.59684802]\n",
      "  [0.78475326 0.40681711 0.76672172]]\n",
      "\n",
      " [[0.16090509 0.60291174 0.26328611]\n",
      "  [0.9962035  0.63456835 0.95945712]\n",
      "  [0.89321092 0.63230562 0.46765689]]\n",
      "\n",
      " [[0.67522644 0.44805292 0.50928235]\n",
      "  [0.68656752 0.57051388 0.60071904]\n",
      "  [0.47519408 0.98647049 0.89826033]]]\n"
     ]
    }
   ],
   "source": [
    "#8. Create a 3x3x3 array with random values (★☆☆)\n",
    "#hint: np.random.random\n",
    "\n",
    "c = np.random.random((3,3,3))\n",
    "print(c)"
   ]
  },
  {
   "cell_type": "code",
   "execution_count": 42,
   "id": "337a16aa",
   "metadata": {},
   "outputs": [
    {
     "name": "stdout",
     "output_type": "stream",
     "text": [
      "[[0.54021901 0.70478881 0.05117607 0.5723591  0.7585809  0.99350801\n",
      "  0.36263066 0.77520298 0.52739986 0.43855854]\n",
      " [0.45813176 0.53869856 0.88101958 0.02946151 0.27301679 0.91343188\n",
      "  0.36782002 0.60416677 0.63936733 0.22857011]\n",
      " [0.67574138 0.26582265 0.93494622 0.92987949 0.5372603  0.89555772\n",
      "  0.07434848 0.85048059 0.55688996 0.09533268]\n",
      " [0.8649337  0.29443184 0.92421022 0.52475628 0.13412432 0.86443706\n",
      "  0.90011989 0.42165712 0.60521849 0.37751377]\n",
      " [0.99430958 0.11268379 0.81346787 0.80480265 0.46351637 0.82144021\n",
      "  0.62593531 0.08754857 0.80807318 0.61515843]\n",
      " [0.34860922 0.59733289 0.277341   0.95481544 0.35591319 0.18199382\n",
      "  0.90320097 0.24689213 0.39940891 0.27360427]\n",
      " [0.66744535 0.02352427 0.34809317 0.94872216 0.44668084 0.04740719\n",
      "  0.47717376 0.0317521  0.79976699 0.73450508]\n",
      " [0.93507223 0.53243348 0.8455415  0.94869091 0.6936899  0.90550212\n",
      "  0.41338133 0.72255857 0.30624546 0.7916375 ]\n",
      " [0.24930829 0.80885803 0.38280797 0.77058051 0.28403709 0.90355165\n",
      "  0.21669081 0.53352242 0.54001768 0.28049458]\n",
      " [0.49080598 0.9291772  0.13987823 0.95569204 0.5000231  0.56496955\n",
      "  0.5484131  0.95444956 0.77908016 0.01138096]]\n"
     ]
    }
   ],
   "source": [
    "# 9. Create a 10x10 array with random values and find the minimum and maximum values (★☆☆)\n",
    "# hint: min, max\n",
    "\n",
    "d = np.random.random((10,10))\n",
    "print(d)"
   ]
  },
  {
   "cell_type": "code",
   "execution_count": 45,
   "id": "a314d2b0",
   "metadata": {},
   "outputs": [
    {
     "name": "stdout",
     "output_type": "stream",
     "text": [
      "0.01138095501887082\n",
      "0.994309581268533\n"
     ]
    }
   ],
   "source": [
    "e=np.min(d)\n",
    "print(e)\n",
    "f=np.max(d)\n",
    "print(f)"
   ]
  },
  {
   "cell_type": "code",
   "execution_count": 46,
   "id": "46a40f1f",
   "metadata": {},
   "outputs": [
    {
     "name": "stdout",
     "output_type": "stream",
     "text": [
      "[0.05765532 0.8701584  0.77370527 0.5312227  0.30821458 0.97585042\n",
      " 0.53481054 0.50569481 0.04111803 0.47785838 0.97869234 0.84242155\n",
      " 0.94199865 0.30901636 0.65748962 0.22847114 0.91449913 0.34508335\n",
      " 0.45435022 0.79584387 0.94277951 0.98816083 0.72335306 0.9712869\n",
      " 0.71551878 0.32739012 0.22351356 0.59324191 0.19099524 0.22401833]\n"
     ]
    }
   ],
   "source": [
    "# 10. Create a random vector of size 30 and find the mean value (★☆☆)\n",
    "# hint: mean\n",
    "\n",
    "g = np.random.random((30))\n",
    "print(g)\n",
    "    "
   ]
  },
  {
   "cell_type": "code",
   "execution_count": 48,
   "id": "39a5c1d1",
   "metadata": {},
   "outputs": [
    {
     "name": "stdout",
     "output_type": "stream",
     "text": [
      "0.5814804303209176\n"
     ]
    }
   ],
   "source": [
    "h = np.mean(g)\n",
    "print(h)"
   ]
  },
  {
   "cell_type": "code",
   "execution_count": 95,
   "id": "499b66ae",
   "metadata": {},
   "outputs": [
    {
     "name": "stdout",
     "output_type": "stream",
     "text": [
      "[[0 0 0 0 0]\n",
      " [1 0 0 0 0]\n",
      " [0 2 0 0 0]\n",
      " [0 0 3 0 0]\n",
      " [0 0 0 4 0]]\n"
     ]
    }
   ],
   "source": [
    "# 11. Create a 5x5 matrix with values 1,2,3,4 just below the diagonal (★☆☆)\n",
    "# hint: np.diag\n",
    "\n",
    "j = np.diag(1+np.arange(4),k=-1)\n",
    "print(j)\n"
   ]
  },
  {
   "cell_type": "code",
   "execution_count": 77,
   "id": "85b55d19",
   "metadata": {},
   "outputs": [
    {
     "name": "stdout",
     "output_type": "stream",
     "text": [
      "[[0.39839583 0.09058002 0.02258364 0.63316373 0.38650102]\n",
      " [0.23248431 0.97617563 0.04600141 0.47968266 0.49979056]\n",
      " [0.81960822 0.89823227 0.69357667 0.07901349 0.57127179]\n",
      " [0.16504986 0.57476835 0.43007951 0.26592377 0.35484736]\n",
      " [0.05557776 0.28085932 0.93527833 0.82303875 0.10453827]]\n"
     ]
    }
   ],
   "source": [
    "#12. Normalize a 5x5 random matrix (★☆☆)\n",
    "#hint: (x -mean)/std\n",
    "\n",
    "k = np.random.random((5,5))\n",
    "print(k)\n",
    "\n"
   ]
  },
  {
   "cell_type": "code",
   "execution_count": 87,
   "id": "5c96297d",
   "metadata": {},
   "outputs": [
    {
     "name": "stdout",
     "output_type": "stream",
     "text": [
      "After normalization: [[0.44334121 0.15452661 0.19898455 0.50822836 0.87473883]\n",
      " [0.70618918 0.22465967 0.96933221 0.7035091  0.02383191]\n",
      " [0.80201503 0.         0.80658827 1.         0.28433636]\n",
      " [0.48749017 0.3106105  0.11012955 0.61323943 0.88342252]\n",
      " [0.12011739 0.24559918 0.232863   0.96443756 0.90755028]])\n"
     ]
    }
   ],
   "source": [
    "kmax, kmin = k.max(), k.min()\n",
    "k = (k - kmin) / (kmax - kmin)\n",
    "print(f\"After normalization: {x})\")"
   ]
  },
  {
   "cell_type": "code",
   "execution_count": 102,
   "id": "787f4ca4",
   "metadata": {},
   "outputs": [
    {
     "name": "stdout",
     "output_type": "stream",
     "text": [
      "[[15  5  5]\n",
      " [16 41  7]\n",
      " [39 36 15]]\n"
     ]
    }
   ],
   "source": [
    "# 13. How to find common values between two arrays? (★☆☆)\n",
    "#hint: np.intersect1d\n",
    "\n",
    "o = np.random.randint(50, size=((3,3)))\n",
    "print(o)"
   ]
  },
  {
   "cell_type": "code",
   "execution_count": 103,
   "id": "8520a9c5",
   "metadata": {},
   "outputs": [
    {
     "name": "stdout",
     "output_type": "stream",
     "text": [
      "[[34 12 14]\n",
      " [ 9 11 27]\n",
      " [44 15 43]]\n"
     ]
    }
   ],
   "source": [
    "p = np.random.randint(50, size=((3,3)))\n",
    "print(p)"
   ]
  },
  {
   "cell_type": "code",
   "execution_count": 107,
   "id": "223ee531",
   "metadata": {},
   "outputs": [
    {
     "name": "stdout",
     "output_type": "stream",
     "text": [
      "[15]\n"
     ]
    }
   ],
   "source": [
    "r=np.intersect1d(o,p)\n",
    "print(r)"
   ]
  },
  {
   "cell_type": "code",
   "execution_count": 111,
   "id": "08c75d6d",
   "metadata": {},
   "outputs": [
    {
     "name": "stdout",
     "output_type": "stream",
     "text": [
      "[0.19187756 0.80387903 0.89887353 0.75215302 0.36777103 0.12654328\n",
      " 0.93839067 0.94669853 0.26960007 0.8746249 ]\n"
     ]
    }
   ],
   "source": [
    "#14. Create a random vector of size 10 and sort it (★★☆)\n",
    "#hint: sort\n",
    "\n",
    "q = np.random.random(10)\n",
    "print(q)"
   ]
  },
  {
   "cell_type": "code",
   "execution_count": 114,
   "id": "d36aa668",
   "metadata": {},
   "outputs": [
    {
     "name": "stdout",
     "output_type": "stream",
     "text": [
      "[0.12654328 0.19187756 0.26960007 0.36777103 0.75215302 0.80387903\n",
      " 0.8746249  0.89887353 0.93839067 0.94669853]\n"
     ]
    }
   ],
   "source": [
    "r = np.sort(q)\n",
    "print(r)"
   ]
  },
  {
   "cell_type": "code",
   "execution_count": 137,
   "id": "02f45887",
   "metadata": {},
   "outputs": [
    {
     "name": "stdout",
     "output_type": "stream",
     "text": [
      "[0.40710715 0.94124052 0.04506532 0.79911039 0.08683531 0.91212571\n",
      " 0.76336747 0.37022262 0.67859364 0.61000522]\n",
      "0.9412405200807977\n",
      "[0.40710715 0.         0.04506532 0.79911039 0.08683531 0.91212571\n",
      " 0.76336747 0.37022262 0.67859364 0.61000522]\n"
     ]
    }
   ],
   "source": [
    "#15. Create random vector of size 10 and replace the maximum value by 0 (★★☆)\n",
    "#hint: argmax\n",
    "\n",
    "s = np.random.random(10)\n",
    "print(s)\n",
    "\n",
    "mx_s = max(s)\n",
    "print(mx_s)\n",
    "\n",
    "s[s.argmax()]=0\n",
    "print(s)"
   ]
  },
  {
   "cell_type": "code",
   "execution_count": 138,
   "id": "eea6f2d9",
   "metadata": {},
   "outputs": [
    {
     "name": "stdout",
     "output_type": "stream",
     "text": [
      "[[0.2119385  0.20258151 0.53624602 0.95756544]\n",
      " [0.1729811  0.74870222 0.82299805 0.0738217 ]\n",
      " [0.70159957 0.9974701  0.97216405 0.55655576]]\n",
      "[[-0.26514437 -0.27450135  0.05916315  0.48048257]\n",
      " [-0.28164467  0.29407645  0.36837228 -0.38080407]\n",
      " [-0.1053478   0.19052273  0.16521668 -0.25039161]]\n"
     ]
    }
   ],
   "source": [
    "#16. Subtract the mean of each row of a matrix (★★☆)\n",
    "#hint: mean(axis=,keepdims=)\n",
    "\n",
    "a = np.random.rand(3, 4)\n",
    "print(a)\n",
    "\n",
    "b = a - a.mean(axis=1, keepdims=True)\n",
    "print(b)"
   ]
  },
  {
   "cell_type": "code",
   "execution_count": 142,
   "id": "e21876d2",
   "metadata": {},
   "outputs": [
    {
     "name": "stdout",
     "output_type": "stream",
     "text": [
      "[6709 6120 7446 ... 6544 6693 1361]\n",
      "Sorted array: [   0    1    2 ... 9997 9998 9999]\n",
      "5 largest value: [9995 9996 9997 9998 9999]\n"
     ]
    }
   ],
   "source": [
    "#17. How to get the n largest values of an array (★★★)\n",
    "#Z = np.arange(10000)\n",
    "#np.random.shuffle(Z)\n",
    "#n = 5\n",
    "#hint: np.argsort | np.argpartition\n",
    "\n",
    "Z = np.arange(10000)\n",
    "np.random.shuffle(Z)\n",
    "n = 5\n",
    "print(Z)\n",
    "\n",
    "sorted_index_array = np.argsort(Z)\n",
    "sorted_array = Z[sorted_index_array]\n",
    "print(\"Sorted array:\", sorted_array)\n",
    "rslt = sorted_array[-n : ]\n",
    "print(\"{} largest value:\".format(n),rslt)\n",
    "\n"
   ]
  },
  {
   "cell_type": "code",
   "execution_count": 156,
   "id": "2b726876",
   "metadata": {},
   "outputs": [
    {
     "name": "stdout",
     "output_type": "stream",
     "text": [
      "[[0.18942102 0.87938319 0.24656053]\n",
      " [0.71900672 0.20885702 0.92363079]\n",
      " [0.75319787 0.35072687 0.13422972]\n",
      " [0.04649983 0.3036916  0.00520692]\n",
      " [0.95268189 0.51798254 0.12267088]]\n",
      "[[0.18942102 0.87938319 0.24656053]\n",
      " [0.71900672 0.20885702 0.92363079]\n",
      " [0.75319787 0.35072687 0.13422972]\n",
      " [0.04649983 0.3036916  0.00520692]\n",
      " [0.95268189 0.51798254 0.12267088]]\n"
     ]
    }
   ],
   "source": [
    "#18. Create a random 5*3 matrix and replace items that are larger than 4 by their squares ( Example: 6 --> 36)\n",
    "#hint: np.where\n",
    "\n",
    "x = np.random.random((5,3))\n",
    "print(x)\n",
    "x_new= np.where(x<= 4, x, x**2)\n",
    "print(x_new)\n"
   ]
  }
 ],
 "metadata": {
  "kernelspec": {
   "display_name": "Python 3 (ipykernel)",
   "language": "python",
   "name": "python3"
  },
  "language_info": {
   "codemirror_mode": {
    "name": "ipython",
    "version": 3
   },
   "file_extension": ".py",
   "mimetype": "text/x-python",
   "name": "python",
   "nbconvert_exporter": "python",
   "pygments_lexer": "ipython3",
   "version": "3.9.12"
  }
 },
 "nbformat": 4,
 "nbformat_minor": 5
}
